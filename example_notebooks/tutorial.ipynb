{
 "cells": [
  {
   "cell_type": "code",
   "execution_count": null,
   "id": "interesting-gazette",
   "metadata": {},
   "outputs": [],
   "source": [
    "%matplotlib inline"
   ]
  },
  {
   "cell_type": "code",
   "execution_count": null,
   "id": "judicial-tolerance",
   "metadata": {},
   "outputs": [],
   "source": [
    "import pycircos\n",
    "import matplotlib.pyplot as plt\n",
    "Garc    = pycircos.Garc\n",
    "Gcircle = pycircos.Gcircle"
   ]
  },
  {
   "cell_type": "code",
   "execution_count": null,
   "id": "apparent-uncle",
   "metadata": {},
   "outputs": [],
   "source": [
    "#Set chromosomes\n",
    "circle = Gcircle(figsize=(8,8)) \n",
    "with open(\"sample_data/example_data_chromosome_general.csv\") as f:\n",
    "    f.readline()\n",
    "    for line in f:\n",
    "        line   = line.rstrip().split(\",\") \n",
    "        name   = line[0]\n",
    "        length = int(line[-1]) \n",
    "        arc    = Garc(arc_id=name, size=length, interspace=2, raxis_range=(935,985), labelposition=80, label_visible=True)\n",
    "        circle.add_garc(arc) "
   ]
  },
  {
   "cell_type": "code",
   "execution_count": null,
   "id": "dependent-galaxy",
   "metadata": {},
   "outputs": [],
   "source": [
    "circle.set_garcs(-65,245) "
   ]
  },
  {
   "cell_type": "code",
   "execution_count": null,
   "id": "0076d5f4-857a-4a0b-8325-4d367e3cca5c",
   "metadata": {},
   "outputs": [],
   "source": [
    "for arc_id in circle.garc_dict:\n",
    "    circle.tickplot(arc_id, raxis_range=(985,1000), tickinterval=20000000, ticklabels=None) "
   ]
  },
  {
   "cell_type": "code",
   "execution_count": null,
   "id": "630b0bc8-fa14-445e-9e60-1e6456614ff3",
   "metadata": {},
   "outputs": [],
   "source": [
    "circle.figure"
   ]
  },
  {
   "cell_type": "code",
   "execution_count": null,
   "id": "fewer-initial",
   "metadata": {},
   "outputs": [],
   "source": [
    "#cytoband\n",
    "import collections\n",
    "# ヒトとオーソログがある場合は赤､ない場合は黒とか?\n",
    "color_dict   = {\"gneg\":\"#FFFFFF00\", \"gpos25\":\"#EEEEEE\", \"gpos50\":\"#BBBBBB\", \"gpos75\":\"#777777\", \"gpos100\":\"#000000\", \"gvar\":\"#FFFFFF00\", \"stalk\":\"#C01E27\", \n",
    "               \"acen\":\"#D82322\"}\n",
    "\n",
    "arcdata_dict = collections.defaultdict(dict)\n",
    "with open(\"sample_data/example_data_chromosome_cytoband.csv\") as f:\n",
    "    f.readline()\n",
    "    for line in f:\n",
    "        line  = line.rstrip().split(\",\")\n",
    "        name  = line[0]     \n",
    "        start = int(line[1])-1 \n",
    "        width = int(line[2])-(int(line[1])-1) \n",
    "        if name not in arcdata_dict:\n",
    "            arcdata_dict[name][\"positions\"] = []\n",
    "            arcdata_dict[name][\"widths\"]    = [] \n",
    "            arcdata_dict[name][\"colors\"]    = [] \n",
    "        arcdata_dict[name][\"positions\"].append(start) \n",
    "        arcdata_dict[name][\"widths\"].append(width)\n",
    "        arcdata_dict[name][\"colors\"].append(color_dict[line[-1]])\n",
    "\n",
    "for key in arcdata_dict:\n",
    "    circle.barplot(key, data=[1]*len(arcdata_dict[key][\"positions\"]), positions=arcdata_dict[key][\"positions\"], \n",
    "                   width=arcdata_dict[key][\"widths\"], raxis_range=[935,985], facecolor=arcdata_dict[key][\"colors\"])    "
   ]
  },
  {
   "cell_type": "code",
   "execution_count": null,
   "id": "robust-apparel",
   "metadata": {},
   "outputs": [],
   "source": [
    "circle.figure"
   ]
  },
  {
   "cell_type": "code",
   "execution_count": null,
   "id": "impressive-pressing",
   "metadata": {},
   "outputs": [],
   "source": [
    "#scatter plot\n",
    "values_all   = [] \n",
    "arcdata_dict = collections.defaultdict(dict)\n",
    "with open(\"sample_data/example_data_point.csv\") as f:\n",
    "    f.readline()\n",
    "    for line in f:\n",
    "        line  = line.rstrip().split(\",\")\n",
    "        name  = line[0]     \n",
    "        start = int(line[1])-1\n",
    "        end   = int(line[2]) \n",
    "        mid   = (start+end)/2\n",
    "        value = float(line[-1]) \n",
    "        values_all.append(value) \n",
    "        if name not in arcdata_dict:\n",
    "            arcdata_dict[name][\"positions\"] = []\n",
    "            arcdata_dict[name][\"values\"] = []\n",
    "        arcdata_dict[name][\"positions\"].append(mid) \n",
    "        arcdata_dict[name][\"values\"].append(value)\n",
    "    \n",
    "vmin, vmax = min(values_all), max(values_all) \n",
    "for key in arcdata_dict:\n",
    "    circle.scatterplot(key, data=arcdata_dict[key][\"values\"], positions=arcdata_dict[key][\"positions\"], \n",
    "                       rlim=[vmin-0.05*abs(vmin), vmax+0.05*abs(vmax)], raxis_range=(845,925), facecolor=\"orangered\", spine=True) "
   ]
  },
  {
   "cell_type": "code",
   "execution_count": null,
   "id": "narrow-theorem",
   "metadata": {},
   "outputs": [],
   "source": [
    "#line plot\n",
    "values_all   = [] \n",
    "arcdata_dict = collections.defaultdict(dict)\n",
    "with open(\"sample_data/example_data_point.csv\") as f:\n",
    "    f.readline()\n",
    "    for line in f:\n",
    "        line  = line.rstrip().split(\",\")\n",
    "        name  = line[0]     \n",
    "        start = int(line[1])-1\n",
    "        end   = int(line[2]) \n",
    "        mid   = (start+end)/2\n",
    "        value = float(line[-1]) \n",
    "        values_all.append(value) \n",
    "        if name not in arcdata_dict:\n",
    "            arcdata_dict[name][\"positions\"] = []\n",
    "            arcdata_dict[name][\"values\"] = []\n",
    "        arcdata_dict[name][\"positions\"].append(mid) \n",
    "        arcdata_dict[name][\"values\"].append(value)\n",
    "    \n",
    "vmin, vmax = min(values_all), max(values_all) \n",
    "for key in arcdata_dict:\n",
    "    circle.lineplot(key, data=arcdata_dict[key][\"values\"], positions=arcdata_dict[key][\"positions\"], \n",
    "                    rlim=[vmin-0.05*abs(vmin), vmax+0.05*abs(vmax)], raxis_range=(755,835), linecolor=\"royalblue\", spine=False) "
   ]
  },
  {
   "cell_type": "code",
   "execution_count": null,
   "id": "floral-adams",
   "metadata": {},
   "outputs": [],
   "source": [
    "circle.figure"
   ]
  },
  {
   "cell_type": "code",
   "execution_count": null,
   "id": "excellent-numbers",
   "metadata": {},
   "outputs": [],
   "source": [
    "#bar plot\n",
    "values_all   = [] \n",
    "arcdata_dict = collections.defaultdict(dict)\n",
    "with open(\"sample_data/example_data_barplot.csv\") as f:\n",
    "    f.readline()\n",
    "    for line in f:\n",
    "        line  = line.rstrip().split(\",\")\n",
    "        name  = line[0]     \n",
    "        start = int(line[1])-1\n",
    "        end   = int(line[2]) \n",
    "        width = end-start \n",
    "        if name not in arcdata_dict:\n",
    "            arcdata_dict[name][\"positions\"] = []\n",
    "            arcdata_dict[name][\"widths\"]    = [] \n",
    "            arcdata_dict[name][\"values\"]    = [] \n",
    "        arcdata_dict[name][\"positions\"].append(start) \n",
    "        arcdata_dict[name][\"widths\"].append(width)\n",
    "        arcdata_dict[name][\"values\"].append(float(line[-1]))\n",
    "        values_all.append(float(line[-1]))\n",
    "\n",
    "vmin, vmax = min(values_all), max(values_all) \n",
    "for key in arcdata_dict:  \n",
    "    circle.barplot(key, data=arcdata_dict[key][\"values\"], positions=arcdata_dict[key][\"positions\"], \n",
    "                   width=arcdata_dict[key][\"widths\"], base_value=0.0, rlim=[vmin-0.05*abs(vmin), vmax+0.05*abs(vmax)],\n",
    "                   raxis_range=[665,745], facecolor=\"y\", spine=True)"
   ]
  },
  {
   "cell_type": "code",
   "execution_count": null,
   "id": "compressed-magnitude",
   "metadata": {},
   "outputs": [],
   "source": [
    "#circle.figure"
   ]
  },
  {
   "cell_type": "code",
   "execution_count": null,
   "id": "hispanic-investigation",
   "metadata": {},
   "outputs": [],
   "source": [
    "#heatmap\n",
    "values_all   = [] \n",
    "arcdata_dict = collections.defaultdict(dict)\n",
    "with open(\"sample_data/example_data_rect_gradual.csv\") as f:\n",
    "    f.readline()\n",
    "    for line in f:\n",
    "        line  = line.rstrip().split(\",\")\n",
    "        name  = line[0]     \n",
    "        start = int(line[1])-1\n",
    "        end   = int(line[2]) \n",
    "        width = end-start \n",
    "        if name not in arcdata_dict:\n",
    "            arcdata_dict[name][\"positions\"] = []\n",
    "            arcdata_dict[name][\"widths\"]    = [] \n",
    "            arcdata_dict[name][\"values\"]    = [] \n",
    "        arcdata_dict[name][\"positions\"].append(start) \n",
    "        arcdata_dict[name][\"widths\"].append(width)\n",
    "        arcdata_dict[name][\"values\"].append(float(line[-1]))\n",
    "        values_all.append(float(line[-1]))\n",
    "\n",
    "vmin, vmax = min(values_all), max(values_all) \n",
    "for key in arcdata_dict:\n",
    "    circle.heatmap(key, data=arcdata_dict[key][\"values\"], positions=arcdata_dict[key][\"positions\"], \n",
    "                   width=arcdata_dict[key][\"widths\"], raxis_range=[615,655], vmin=vmin, vmax=vmax, \n",
    "                   cmap=plt.cm.viridis)"
   ]
  },
  {
   "cell_type": "code",
   "execution_count": null,
   "id": "distributed-sitting",
   "metadata": {},
   "outputs": [],
   "source": [
    "#circle.figure"
   ]
  },
  {
   "cell_type": "code",
   "execution_count": null,
   "id": "fatty-kitty",
   "metadata": {},
   "outputs": [],
   "source": [
    "#linkplot\n",
    "#heatmap\n",
    "values_all   = [] \n",
    "arcdata_dict = collections.defaultdict(dict)\n",
    "with open(\"sample_data/example_data_links.csv\") as f:\n",
    "    f.readline()\n",
    "    for line in f:\n",
    "        line  = line.rstrip().split(\",\")\n",
    "        name1  = line[0]     \n",
    "        start1 = int(line[1])-1\n",
    "        end1   = int(line[2])\n",
    "        name2  = line[3]     \n",
    "        start2 = int(line[4])-1\n",
    "        end2   = int(line[5])\n",
    "        source = (name1, start1, end1, 615)\n",
    "        destination = (name2, start2, end2, 615)\n",
    "        circle.chord_plot(source, destination, facecolor=circle.garc_dict[name1].facecolor)"
   ]
  },
  {
   "cell_type": "code",
   "execution_count": null,
   "id": "amino-pasta",
   "metadata": {},
   "outputs": [],
   "source": [
    "circle.figure"
   ]
  },
  {
   "cell_type": "code",
   "execution_count": null,
   "id": "possible-health",
   "metadata": {},
   "outputs": [],
   "source": [
    "circle.figure.savefig(\"tutotial.pdf\")"
   ]
  }
 ],
 "metadata": {
  "kernelspec": {
   "display_name": "Python 3 (ipykernel)",
   "language": "python",
   "name": "python3"
  },
  "language_info": {
   "codemirror_mode": {
    "name": "ipython",
    "version": 3
   },
   "file_extension": ".py",
   "mimetype": "text/x-python",
   "name": "python",
   "nbconvert_exporter": "python",
   "pygments_lexer": "ipython3",
   "version": "3.9.17"
  }
 },
 "nbformat": 4,
 "nbformat_minor": 5
}
