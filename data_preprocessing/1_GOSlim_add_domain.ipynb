{
 "cells": [
  {
   "cell_type": "markdown",
   "metadata": {},
   "source": [
    "# Assign GOSlim domain to each GOSlim accession\n",
    "\n",
    "## Background\n",
    "\n",
    "When obtained from Ensembl Biomart, GOSlim data does not have domain information(e.g., cellular_component) listed, so use QuickGO to assign domains to each GOSlim accession."
   ]
  },
  {
   "cell_type": "code",
   "execution_count": 1,
   "metadata": {},
   "outputs": [],
   "source": [
    "import requests\n",
    "import time\n",
    "import os\n",
    "#import pandas as pd\n",
    "import polars as pl #Replace with pandas"
   ]
  },
  {
   "cell_type": "markdown",
   "metadata": {},
   "source": [
    "## Get domain function through QuickGO API"
   ]
  },
  {
   "cell_type": "code",
   "execution_count": 2,
   "metadata": {},
   "outputs": [],
   "source": [
    "def get_domain(accession):\n",
    "    requestURL = f\"https://www.ebi.ac.uk/QuickGO/services/ontology/go/search?query={accession}&limit=1&page=1\"\n",
    "    try:\n",
    "        r = requests.get(requestURL, headers={\"Accept\": \"application/json\"}, timeout=30)\n",
    "        r.raise_for_status()\n",
    "    except requests.exceptions.RequestException as e:\n",
    "        print(f\"API request error: {e}\")\n",
    "        return None\n",
    "    data = r.json()\n",
    "    return data['results'][0]['aspect'] if data['results'] else None"
   ]
  },
  {
   "cell_type": "markdown",
   "metadata": {},
   "source": [
    "## MOUSE"
   ]
  },
  {
   "cell_type": "code",
   "execution_count": 4,
   "metadata": {},
   "outputs": [
    {
     "data": {
      "text/html": [
       "<div><style>\n",
       ".dataframe > thead > tr,\n",
       ".dataframe > tbody > tr {\n",
       "  text-align: right;\n",
       "  white-space: pre-wrap;\n",
       "}\n",
       "</style>\n",
       "<small>shape: (170_880, 6)</small><table border=\"1\" class=\"dataframe\"><thead><tr><th>Gene stable ID</th><th>Chromosome/scaffold name</th><th>Gene start (bp)</th><th>Gene end (bp)</th><th>GOSlim GOA Accession(s)</th><th>GOSlim GOA Description</th></tr><tr><td>str</td><td>str</td><td>str</td><td>str</td><td>str</td><td>str</td></tr></thead><tbody><tr><td>&quot;ENSMUSG0000006…</td><td>&quot;MT&quot;</td><td>&quot;1&quot;</td><td>&quot;68&quot;</td><td>&quot;GO:0060090&quot;</td><td>&quot;molecular adap…</td></tr><tr><td>&quot;ENSMUSG0000006…</td><td>&quot;MT&quot;</td><td>&quot;1&quot;</td><td>&quot;68&quot;</td><td>&quot;GO:0003723&quot;</td><td>&quot;RNA binding&quot;</td></tr><tr><td>&quot;ENSMUSG0000006…</td><td>&quot;MT&quot;</td><td>&quot;1&quot;</td><td>&quot;68&quot;</td><td>&quot;GO:0043226&quot;</td><td>&quot;organelle&quot;</td></tr><tr><td>&quot;ENSMUSG0000006…</td><td>&quot;MT&quot;</td><td>&quot;1&quot;</td><td>&quot;68&quot;</td><td>&quot;GO:0005739&quot;</td><td>&quot;mitochondrion&quot;</td></tr><tr><td>&quot;ENSMUSG0000006…</td><td>&quot;MT&quot;</td><td>&quot;70&quot;</td><td>&quot;1024&quot;</td><td>&quot;GO:0005198&quot;</td><td>&quot;structural mol…</td></tr><tr><td>&quot;ENSMUSG0000006…</td><td>&quot;MT&quot;</td><td>&quot;70&quot;</td><td>&quot;1024&quot;</td><td>&quot;GO:0065003&quot;</td><td>&quot;protein-contai…</td></tr><tr><td>&quot;ENSMUSG0000006…</td><td>&quot;MT&quot;</td><td>&quot;70&quot;</td><td>&quot;1024&quot;</td><td>&quot;GO:0042254&quot;</td><td>&quot;ribosome bioge…</td></tr><tr><td>&quot;ENSMUSG0000006…</td><td>&quot;MT&quot;</td><td>&quot;70&quot;</td><td>&quot;1024&quot;</td><td>&quot;GO:0043226&quot;</td><td>&quot;organelle&quot;</td></tr><tr><td>&quot;ENSMUSG0000006…</td><td>&quot;MT&quot;</td><td>&quot;70&quot;</td><td>&quot;1024&quot;</td><td>&quot;GO:0005739&quot;</td><td>&quot;mitochondrion&quot;</td></tr><tr><td>&quot;ENSMUSG0000006…</td><td>&quot;MT&quot;</td><td>&quot;70&quot;</td><td>&quot;1024&quot;</td><td>&quot;GO:0005840&quot;</td><td>&quot;ribosome&quot;</td></tr><tr><td>&quot;ENSMUSG0000006…</td><td>&quot;MT&quot;</td><td>&quot;1025&quot;</td><td>&quot;1093&quot;</td><td>&quot;GO:0060090&quot;</td><td>&quot;molecular adap…</td></tr><tr><td>&quot;ENSMUSG0000006…</td><td>&quot;MT&quot;</td><td>&quot;1025&quot;</td><td>&quot;1093&quot;</td><td>&quot;GO:0003723&quot;</td><td>&quot;RNA binding&quot;</td></tr><tr><td>&hellip;</td><td>&hellip;</td><td>&hellip;</td><td>&hellip;</td><td>&hellip;</td><td>&hellip;</td></tr><tr><td>&quot;ENSMUSG0000001…</td><td>&quot;2&quot;</td><td>&quot;29980956&quot;</td><td>&quot;29983660&quot;</td><td>&quot;GO:0016740&quot;</td><td>&quot;transferase ac…</td></tr><tr><td>&quot;ENSMUSG0000001…</td><td>&quot;2&quot;</td><td>&quot;29980956&quot;</td><td>&quot;29983660&quot;</td><td>&quot;GO:0043226&quot;</td><td>&quot;organelle&quot;</td></tr><tr><td>&quot;ENSMUSG0000001…</td><td>&quot;2&quot;</td><td>&quot;29980956&quot;</td><td>&quot;29983660&quot;</td><td>&quot;GO:0005794&quot;</td><td>&quot;Golgi apparatu…</td></tr><tr><td>&quot;ENSMUSG0000001…</td><td>&quot;2&quot;</td><td>&quot;29980956&quot;</td><td>&quot;29983660&quot;</td><td>&quot;GO:0005783&quot;</td><td>&quot;endoplasmic re…</td></tr><tr><td>&quot;ENSMUSG0000001…</td><td>&quot;2&quot;</td><td>&quot;29980956&quot;</td><td>&quot;29983660&quot;</td><td>&quot;GO:0065003&quot;</td><td>&quot;protein-contai…</td></tr><tr><td>&quot;ENSMUSG0000001…</td><td>&quot;2&quot;</td><td>&quot;29980956&quot;</td><td>&quot;29983660&quot;</td><td>&quot;GO:0140096&quot;</td><td>&quot;catalytic acti…</td></tr><tr><td>&quot;ENSMUSG0000001…</td><td>&quot;2&quot;</td><td>&quot;29980956&quot;</td><td>&quot;29983660&quot;</td><td>&quot;GO:0006886&quot;</td><td>&quot;intracellular …</td></tr><tr><td>&quot;ENSMUSG0000001…</td><td>&quot;2&quot;</td><td>&quot;29980956&quot;</td><td>&quot;29983660&quot;</td><td>&quot;GO:0036211&quot;</td><td>&quot;protein modifi…</td></tr><tr><td>&quot;ENSMUSG0000001…</td><td>&quot;2&quot;</td><td>&quot;29980956&quot;</td><td>&quot;29983660&quot;</td><td>&quot;GO:0023052&quot;</td><td>&quot;signaling&quot;</td></tr><tr><td>&quot;ENSMUSG0000001…</td><td>&quot;2&quot;</td><td>&quot;29980956&quot;</td><td>&quot;29983660&quot;</td><td>&quot;GO:0048856&quot;</td><td>&quot;anatomical str…</td></tr><tr><td>&quot;ENSMUSG0000001…</td><td>&quot;2&quot;</td><td>&quot;29980956&quot;</td><td>&quot;29983660&quot;</td><td>&quot;GO:0034330&quot;</td><td>&quot;cell junction …</td></tr><tr><td>&quot;ENSMUSG0000003…</td><td>&quot;2&quot;</td><td>&quot;29987295&quot;</td><td>&quot;30014597&quot;</td><td>&quot;GO:0030163&quot;</td><td>&quot;protein catabo…</td></tr></tbody></table></div>"
      ],
      "text/plain": [
       "shape: (170_880, 6)\n",
       "┌─────────────────┬─────────────────┬────────────┬───────────────┬────────────────┬────────────────┐\n",
       "│ Gene stable ID  ┆ Chromosome/scaf ┆ Gene start ┆ Gene end (bp) ┆ GOSlim GOA     ┆ GOSlim GOA     │\n",
       "│ ---             ┆ fold name       ┆ (bp)       ┆ ---           ┆ Accession(s)   ┆ Description    │\n",
       "│ str             ┆ ---             ┆ ---        ┆ str           ┆ ---            ┆ ---            │\n",
       "│                 ┆ str             ┆ str        ┆               ┆ str            ┆ str            │\n",
       "╞═════════════════╪═════════════════╪════════════╪═══════════════╪════════════════╪════════════════╡\n",
       "│ ENSMUSG00000064 ┆ MT              ┆ 1          ┆ 68            ┆ GO:0060090     ┆ molecular      │\n",
       "│ 336             ┆                 ┆            ┆               ┆                ┆ adaptor        │\n",
       "│                 ┆                 ┆            ┆               ┆                ┆ activity       │\n",
       "│ ENSMUSG00000064 ┆ MT              ┆ 1          ┆ 68            ┆ GO:0003723     ┆ RNA binding    │\n",
       "│ 336             ┆                 ┆            ┆               ┆                ┆                │\n",
       "│ ENSMUSG00000064 ┆ MT              ┆ 1          ┆ 68            ┆ GO:0043226     ┆ organelle      │\n",
       "│ 336             ┆                 ┆            ┆               ┆                ┆                │\n",
       "│ ENSMUSG00000064 ┆ MT              ┆ 1          ┆ 68            ┆ GO:0005739     ┆ mitochondrion  │\n",
       "│ 336             ┆                 ┆            ┆               ┆                ┆                │\n",
       "│ …               ┆ …               ┆ …          ┆ …             ┆ …              ┆ …              │\n",
       "│ ENSMUSG00000015 ┆ 2               ┆ 29980956   ┆ 29983660      ┆ GO:0023052     ┆ signaling      │\n",
       "│ 335             ┆                 ┆            ┆               ┆                ┆                │\n",
       "│ ENSMUSG00000015 ┆ 2               ┆ 29980956   ┆ 29983660      ┆ GO:0048856     ┆ anatomical     │\n",
       "│ 335             ┆                 ┆            ┆               ┆                ┆ structure      │\n",
       "│                 ┆                 ┆            ┆               ┆                ┆ development    │\n",
       "│ ENSMUSG00000015 ┆ 2               ┆ 29980956   ┆ 29983660      ┆ GO:0034330     ┆ cell junction  │\n",
       "│ 335             ┆                 ┆            ┆               ┆                ┆ organization   │\n",
       "│ ENSMUSG00000039 ┆ 2               ┆ 29987295   ┆ 30014597      ┆ GO:0030163     ┆ protein        │\n",
       "│ 686             ┆                 ┆            ┆               ┆                ┆ catabolic      │\n",
       "│                 ┆                 ┆            ┆               ┆                ┆ process        │\n",
       "└─────────────────┴─────────────────┴────────────┴───────────────┴────────────────┴────────────────┘"
      ]
     },
     "metadata": {},
     "output_type": "display_data"
    }
   ],
   "source": [
    "ensembl_goslim_mouse = pl.read_csv(\"../data/biomart_goslim/biomart_mouse_goslim_R110.tsv\", # Ensembl release 110\n",
    "                                   separator=\"\\t\",\n",
    "                                   infer_schema_length=0) # Convert all columns to string\n",
    "\n",
    "#ensembl_goslim_mouse_unique = ensembl_goslim_mouse.unique(subset=[\"Gene stable ID\", \"GOSlim GOA Accession(s)\",\"GOSlim GOA Description\"], maintain_order=True)\n",
    "ensembl_goslim_mouse_unique = ensembl_goslim_mouse.unique(keep=\"first\", maintain_order=True)\n",
    "display(ensembl_goslim_mouse_unique)"
   ]
  },
  {
   "cell_type": "code",
   "execution_count": 5,
   "metadata": {},
   "outputs": [
    {
     "data": {
      "text/html": [
       "<div><style>\n",
       ".dataframe > thead > tr,\n",
       ".dataframe > tbody > tr {\n",
       "  text-align: right;\n",
       "  white-space: pre-wrap;\n",
       "}\n",
       "</style>\n",
       "<small>shape: (137, 1)</small><table border=\"1\" class=\"dataframe\"><thead><tr><th>GOSlim GOA Accession(s)</th></tr><tr><td>str</td></tr></thead><tbody><tr><td>&quot;GO:0005783&quot;</td></tr><tr><td>&quot;GO:0006914&quot;</td></tr><tr><td>&quot;GO:0065003&quot;</td></tr><tr><td>&quot;GO:0007031&quot;</td></tr><tr><td>&quot;GO:0120274&quot;</td></tr><tr><td>&quot;GO:0005198&quot;</td></tr><tr><td>&quot;GO:0042393&quot;</td></tr><tr><td>&quot;GO:0098631&quot;</td></tr><tr><td>&quot;GO:0034330&quot;</td></tr><tr><td>&quot;GO:0006281&quot;</td></tr><tr><td>&quot;GO:0007018&quot;</td></tr><tr><td>&quot;GO:0016787&quot;</td></tr><tr><td>&hellip;</td></tr><tr><td>&quot;GO:0048018&quot;</td></tr><tr><td>&quot;GO:0022600&quot;</td></tr><tr><td>&quot;GO:0016874&quot;</td></tr><tr><td>&quot;GO:0003014&quot;</td></tr><tr><td>&quot;GO:0005975&quot;</td></tr><tr><td>&quot;GO:0007568&quot;</td></tr><tr><td>&quot;GO:0140053&quot;</td></tr><tr><td>&quot;GO:0003774&quot;</td></tr><tr><td>&quot;GO:0005856&quot;</td></tr><tr><td>&quot;GO:0140098&quot;</td></tr><tr><td>&quot;GO:0005654&quot;</td></tr><tr><td>&quot;GO:0003677&quot;</td></tr></tbody></table></div>"
      ],
      "text/plain": [
       "shape: (137, 1)\n",
       "┌─────────────────────────┐\n",
       "│ GOSlim GOA Accession(s) │\n",
       "│ ---                     │\n",
       "│ str                     │\n",
       "╞═════════════════════════╡\n",
       "│ GO:0005783              │\n",
       "│ GO:0006914              │\n",
       "│ GO:0065003              │\n",
       "│ GO:0007031              │\n",
       "│ …                       │\n",
       "│ GO:0005856              │\n",
       "│ GO:0140098              │\n",
       "│ GO:0005654              │\n",
       "│ GO:0003677              │\n",
       "└─────────────────────────┘"
      ]
     },
     "metadata": {},
     "output_type": "display_data"
    }
   ],
   "source": [
    "unique_goslim_terms_mouse = ensembl_goslim_mouse_unique.unique(subset=['GOSlim GOA Accession(s)']).select('GOSlim GOA Accession(s)')\n",
    "display(unique_goslim_terms_mouse)"
   ]
  },
  {
   "cell_type": "code",
   "execution_count": 6,
   "metadata": {},
   "outputs": [
    {
     "data": {
      "text/html": [
       "<div><style>\n",
       ".dataframe > thead > tr,\n",
       ".dataframe > tbody > tr {\n",
       "  text-align: right;\n",
       "  white-space: pre-wrap;\n",
       "}\n",
       "</style>\n",
       "<small>shape: (137, 2)</small><table border=\"1\" class=\"dataframe\"><thead><tr><th>GOSlim GOA Accession(s)</th><th>GOSlim_domain</th></tr><tr><td>str</td><td>str</td></tr></thead><tbody><tr><td>&quot;GO:0005783&quot;</td><td>&quot;cellular_compo…</td></tr><tr><td>&quot;GO:0006914&quot;</td><td>&quot;biological_pro…</td></tr><tr><td>&quot;GO:0065003&quot;</td><td>&quot;biological_pro…</td></tr><tr><td>&quot;GO:0007031&quot;</td><td>&quot;biological_pro…</td></tr><tr><td>&quot;GO:0120274&quot;</td><td>&quot;molecular_func…</td></tr><tr><td>&quot;GO:0005198&quot;</td><td>&quot;molecular_func…</td></tr><tr><td>&quot;GO:0042393&quot;</td><td>&quot;molecular_func…</td></tr><tr><td>&quot;GO:0098631&quot;</td><td>&quot;molecular_func…</td></tr><tr><td>&quot;GO:0034330&quot;</td><td>&quot;biological_pro…</td></tr><tr><td>&quot;GO:0006281&quot;</td><td>&quot;biological_pro…</td></tr><tr><td>&quot;GO:0007018&quot;</td><td>&quot;biological_pro…</td></tr><tr><td>&quot;GO:0016787&quot;</td><td>&quot;molecular_func…</td></tr><tr><td>&hellip;</td><td>&hellip;</td></tr><tr><td>&quot;GO:0048018&quot;</td><td>&quot;molecular_func…</td></tr><tr><td>&quot;GO:0022600&quot;</td><td>&quot;biological_pro…</td></tr><tr><td>&quot;GO:0016874&quot;</td><td>&quot;molecular_func…</td></tr><tr><td>&quot;GO:0003014&quot;</td><td>&quot;biological_pro…</td></tr><tr><td>&quot;GO:0005975&quot;</td><td>&quot;biological_pro…</td></tr><tr><td>&quot;GO:0007568&quot;</td><td>&quot;biological_pro…</td></tr><tr><td>&quot;GO:0140053&quot;</td><td>&quot;biological_pro…</td></tr><tr><td>&quot;GO:0003774&quot;</td><td>&quot;molecular_func…</td></tr><tr><td>&quot;GO:0005856&quot;</td><td>&quot;cellular_compo…</td></tr><tr><td>&quot;GO:0140098&quot;</td><td>&quot;molecular_func…</td></tr><tr><td>&quot;GO:0005654&quot;</td><td>&quot;cellular_compo…</td></tr><tr><td>&quot;GO:0003677&quot;</td><td>&quot;molecular_func…</td></tr></tbody></table></div>"
      ],
      "text/plain": [
       "shape: (137, 2)\n",
       "┌─────────────────────────┬────────────────────┐\n",
       "│ GOSlim GOA Accession(s) ┆ GOSlim_domain      │\n",
       "│ ---                     ┆ ---                │\n",
       "│ str                     ┆ str                │\n",
       "╞═════════════════════════╪════════════════════╡\n",
       "│ GO:0005783              ┆ cellular_component │\n",
       "│ GO:0006914              ┆ biological_process │\n",
       "│ GO:0065003              ┆ biological_process │\n",
       "│ GO:0007031              ┆ biological_process │\n",
       "│ …                       ┆ …                  │\n",
       "│ GO:0005856              ┆ cellular_component │\n",
       "│ GO:0140098              ┆ molecular_function │\n",
       "│ GO:0005654              ┆ cellular_component │\n",
       "│ GO:0003677              ┆ molecular_function │\n",
       "└─────────────────────────┴────────────────────┘"
      ]
     },
     "metadata": {},
     "output_type": "display_data"
    }
   ],
   "source": [
    "# pandas -> mouse_goslim_df[\"GOSlim_domain\"] = mouse_goslim_df[\"GOSlim GOA Accession(s)\"].apply(get_domain)\n",
    "# https://docs.pola.rs/py-polars/html/reference/series/api/polars.Series.map_elements.html\n",
    "mouse_goslim_df = unique_goslim_terms_mouse.with_columns(\n",
    "    unique_goslim_terms_mouse[\"GOSlim GOA Accession(s)\"].map_elements(get_domain, return_dtype=str).alias(\"GOSlim_domain\")\n",
    ")\n",
    "time.sleep(10)\n",
    "\n",
    "display(mouse_goslim_df)"
   ]
  },
  {
   "cell_type": "code",
   "execution_count": 7,
   "metadata": {},
   "outputs": [
    {
     "data": {
      "text/html": [
       "<div><style>\n",
       ".dataframe > thead > tr,\n",
       ".dataframe > tbody > tr {\n",
       "  text-align: right;\n",
       "  white-space: pre-wrap;\n",
       "}\n",
       "</style>\n",
       "<small>shape: (170_880, 7)</small><table border=\"1\" class=\"dataframe\"><thead><tr><th>Gene stable ID</th><th>Chromosome/scaffold name</th><th>Gene start (bp)</th><th>Gene end (bp)</th><th>GOSlim GOA Accession(s)</th><th>GOSlim GOA Description</th><th>GOSlim_domain</th></tr><tr><td>str</td><td>str</td><td>str</td><td>str</td><td>str</td><td>str</td><td>str</td></tr></thead><tbody><tr><td>&quot;ENSMUSG0000006…</td><td>&quot;MT&quot;</td><td>&quot;1&quot;</td><td>&quot;68&quot;</td><td>&quot;GO:0060090&quot;</td><td>&quot;molecular adap…</td><td>&quot;molecular_func…</td></tr><tr><td>&quot;ENSMUSG0000006…</td><td>&quot;MT&quot;</td><td>&quot;1&quot;</td><td>&quot;68&quot;</td><td>&quot;GO:0003723&quot;</td><td>&quot;RNA binding&quot;</td><td>&quot;molecular_func…</td></tr><tr><td>&quot;ENSMUSG0000006…</td><td>&quot;MT&quot;</td><td>&quot;1&quot;</td><td>&quot;68&quot;</td><td>&quot;GO:0043226&quot;</td><td>&quot;organelle&quot;</td><td>&quot;cellular_compo…</td></tr><tr><td>&quot;ENSMUSG0000006…</td><td>&quot;MT&quot;</td><td>&quot;1&quot;</td><td>&quot;68&quot;</td><td>&quot;GO:0005739&quot;</td><td>&quot;mitochondrion&quot;</td><td>&quot;cellular_compo…</td></tr><tr><td>&quot;ENSMUSG0000006…</td><td>&quot;MT&quot;</td><td>&quot;70&quot;</td><td>&quot;1024&quot;</td><td>&quot;GO:0005198&quot;</td><td>&quot;structural mol…</td><td>&quot;molecular_func…</td></tr><tr><td>&quot;ENSMUSG0000006…</td><td>&quot;MT&quot;</td><td>&quot;70&quot;</td><td>&quot;1024&quot;</td><td>&quot;GO:0065003&quot;</td><td>&quot;protein-contai…</td><td>&quot;biological_pro…</td></tr><tr><td>&quot;ENSMUSG0000006…</td><td>&quot;MT&quot;</td><td>&quot;70&quot;</td><td>&quot;1024&quot;</td><td>&quot;GO:0042254&quot;</td><td>&quot;ribosome bioge…</td><td>&quot;biological_pro…</td></tr><tr><td>&quot;ENSMUSG0000006…</td><td>&quot;MT&quot;</td><td>&quot;70&quot;</td><td>&quot;1024&quot;</td><td>&quot;GO:0043226&quot;</td><td>&quot;organelle&quot;</td><td>&quot;cellular_compo…</td></tr><tr><td>&quot;ENSMUSG0000006…</td><td>&quot;MT&quot;</td><td>&quot;70&quot;</td><td>&quot;1024&quot;</td><td>&quot;GO:0005739&quot;</td><td>&quot;mitochondrion&quot;</td><td>&quot;cellular_compo…</td></tr><tr><td>&quot;ENSMUSG0000006…</td><td>&quot;MT&quot;</td><td>&quot;70&quot;</td><td>&quot;1024&quot;</td><td>&quot;GO:0005840&quot;</td><td>&quot;ribosome&quot;</td><td>&quot;cellular_compo…</td></tr><tr><td>&quot;ENSMUSG0000006…</td><td>&quot;MT&quot;</td><td>&quot;1025&quot;</td><td>&quot;1093&quot;</td><td>&quot;GO:0060090&quot;</td><td>&quot;molecular adap…</td><td>&quot;molecular_func…</td></tr><tr><td>&quot;ENSMUSG0000006…</td><td>&quot;MT&quot;</td><td>&quot;1025&quot;</td><td>&quot;1093&quot;</td><td>&quot;GO:0003723&quot;</td><td>&quot;RNA binding&quot;</td><td>&quot;molecular_func…</td></tr><tr><td>&hellip;</td><td>&hellip;</td><td>&hellip;</td><td>&hellip;</td><td>&hellip;</td><td>&hellip;</td><td>&hellip;</td></tr><tr><td>&quot;ENSMUSG0000001…</td><td>&quot;2&quot;</td><td>&quot;29980956&quot;</td><td>&quot;29983660&quot;</td><td>&quot;GO:0016740&quot;</td><td>&quot;transferase ac…</td><td>&quot;molecular_func…</td></tr><tr><td>&quot;ENSMUSG0000001…</td><td>&quot;2&quot;</td><td>&quot;29980956&quot;</td><td>&quot;29983660&quot;</td><td>&quot;GO:0043226&quot;</td><td>&quot;organelle&quot;</td><td>&quot;cellular_compo…</td></tr><tr><td>&quot;ENSMUSG0000001…</td><td>&quot;2&quot;</td><td>&quot;29980956&quot;</td><td>&quot;29983660&quot;</td><td>&quot;GO:0005794&quot;</td><td>&quot;Golgi apparatu…</td><td>&quot;cellular_compo…</td></tr><tr><td>&quot;ENSMUSG0000001…</td><td>&quot;2&quot;</td><td>&quot;29980956&quot;</td><td>&quot;29983660&quot;</td><td>&quot;GO:0005783&quot;</td><td>&quot;endoplasmic re…</td><td>&quot;cellular_compo…</td></tr><tr><td>&quot;ENSMUSG0000001…</td><td>&quot;2&quot;</td><td>&quot;29980956&quot;</td><td>&quot;29983660&quot;</td><td>&quot;GO:0065003&quot;</td><td>&quot;protein-contai…</td><td>&quot;biological_pro…</td></tr><tr><td>&quot;ENSMUSG0000001…</td><td>&quot;2&quot;</td><td>&quot;29980956&quot;</td><td>&quot;29983660&quot;</td><td>&quot;GO:0140096&quot;</td><td>&quot;catalytic acti…</td><td>&quot;molecular_func…</td></tr><tr><td>&quot;ENSMUSG0000001…</td><td>&quot;2&quot;</td><td>&quot;29980956&quot;</td><td>&quot;29983660&quot;</td><td>&quot;GO:0006886&quot;</td><td>&quot;intracellular …</td><td>&quot;biological_pro…</td></tr><tr><td>&quot;ENSMUSG0000001…</td><td>&quot;2&quot;</td><td>&quot;29980956&quot;</td><td>&quot;29983660&quot;</td><td>&quot;GO:0036211&quot;</td><td>&quot;protein modifi…</td><td>&quot;biological_pro…</td></tr><tr><td>&quot;ENSMUSG0000001…</td><td>&quot;2&quot;</td><td>&quot;29980956&quot;</td><td>&quot;29983660&quot;</td><td>&quot;GO:0023052&quot;</td><td>&quot;signaling&quot;</td><td>&quot;biological_pro…</td></tr><tr><td>&quot;ENSMUSG0000001…</td><td>&quot;2&quot;</td><td>&quot;29980956&quot;</td><td>&quot;29983660&quot;</td><td>&quot;GO:0048856&quot;</td><td>&quot;anatomical str…</td><td>&quot;biological_pro…</td></tr><tr><td>&quot;ENSMUSG0000001…</td><td>&quot;2&quot;</td><td>&quot;29980956&quot;</td><td>&quot;29983660&quot;</td><td>&quot;GO:0034330&quot;</td><td>&quot;cell junction …</td><td>&quot;biological_pro…</td></tr><tr><td>&quot;ENSMUSG0000003…</td><td>&quot;2&quot;</td><td>&quot;29987295&quot;</td><td>&quot;30014597&quot;</td><td>&quot;GO:0030163&quot;</td><td>&quot;protein catabo…</td><td>&quot;biological_pro…</td></tr></tbody></table></div>"
      ],
      "text/plain": [
       "shape: (170_880, 7)\n",
       "┌──────────────┬──────────────┬──────────────┬──────────┬──────────────┬─────────────┬─────────────┐\n",
       "│ Gene stable  ┆ Chromosome/s ┆ Gene start   ┆ Gene end ┆ GOSlim GOA   ┆ GOSlim GOA  ┆ GOSlim_doma │\n",
       "│ ID           ┆ caffold name ┆ (bp)         ┆ (bp)     ┆ Accession(s) ┆ Description ┆ in          │\n",
       "│ ---          ┆ ---          ┆ ---          ┆ ---      ┆ ---          ┆ ---         ┆ ---         │\n",
       "│ str          ┆ str          ┆ str          ┆ str      ┆ str          ┆ str         ┆ str         │\n",
       "╞══════════════╪══════════════╪══════════════╪══════════╪══════════════╪═════════════╪═════════════╡\n",
       "│ ENSMUSG00000 ┆ MT           ┆ 1            ┆ 68       ┆ GO:0060090   ┆ molecular   ┆ molecular_f │\n",
       "│ 064336       ┆              ┆              ┆          ┆              ┆ adaptor     ┆ unction     │\n",
       "│              ┆              ┆              ┆          ┆              ┆ activity    ┆             │\n",
       "│ ENSMUSG00000 ┆ MT           ┆ 1            ┆ 68       ┆ GO:0003723   ┆ RNA binding ┆ molecular_f │\n",
       "│ 064336       ┆              ┆              ┆          ┆              ┆             ┆ unction     │\n",
       "│ ENSMUSG00000 ┆ MT           ┆ 1            ┆ 68       ┆ GO:0043226   ┆ organelle   ┆ cellular_co │\n",
       "│ 064336       ┆              ┆              ┆          ┆              ┆             ┆ mponent     │\n",
       "│ ENSMUSG00000 ┆ MT           ┆ 1            ┆ 68       ┆ GO:0005739   ┆ mitochondri ┆ cellular_co │\n",
       "│ 064336       ┆              ┆              ┆          ┆              ┆ on          ┆ mponent     │\n",
       "│ …            ┆ …            ┆ …            ┆ …        ┆ …            ┆ …           ┆ …           │\n",
       "│ ENSMUSG00000 ┆ 2            ┆ 29980956     ┆ 29983660 ┆ GO:0023052   ┆ signaling   ┆ biological_ │\n",
       "│ 015335       ┆              ┆              ┆          ┆              ┆             ┆ process     │\n",
       "│ ENSMUSG00000 ┆ 2            ┆ 29980956     ┆ 29983660 ┆ GO:0048856   ┆ anatomical  ┆ biological_ │\n",
       "│ 015335       ┆              ┆              ┆          ┆              ┆ structure   ┆ process     │\n",
       "│              ┆              ┆              ┆          ┆              ┆ development ┆             │\n",
       "│ ENSMUSG00000 ┆ 2            ┆ 29980956     ┆ 29983660 ┆ GO:0034330   ┆ cell        ┆ biological_ │\n",
       "│ 015335       ┆              ┆              ┆          ┆              ┆ junction    ┆ process     │\n",
       "│              ┆              ┆              ┆          ┆              ┆ organizatio ┆             │\n",
       "│              ┆              ┆              ┆          ┆              ┆ n           ┆             │\n",
       "│ ENSMUSG00000 ┆ 2            ┆ 29987295     ┆ 30014597 ┆ GO:0030163   ┆ protein     ┆ biological_ │\n",
       "│ 039686       ┆              ┆              ┆          ┆              ┆ catabolic   ┆ process     │\n",
       "│              ┆              ┆              ┆          ┆              ┆ process     ┆             │\n",
       "└──────────────┴──────────────┴──────────────┴──────────┴──────────────┴─────────────┴─────────────┘"
      ]
     },
     "metadata": {},
     "output_type": "display_data"
    }
   ],
   "source": [
    "# pandas -> mouse_merged_goslim_domain = pd.merge(ensembl_goslim_mouse_unique, mouse_goslim_df, how='left', on='GOSlim GOA Accession(s)')\n",
    "mouse_merged_goslim_domain = ensembl_goslim_mouse_unique.join(\n",
    "    mouse_goslim_df, \n",
    "    on=\"GOSlim GOA Accession(s)\", \n",
    "    how=\"left\")\n",
    "display(mouse_merged_goslim_domain)"
   ]
  },
  {
   "cell_type": "markdown",
   "metadata": {},
   "source": [
    "## HUMAN"
   ]
  },
  {
   "cell_type": "code",
   "execution_count": 8,
   "metadata": {},
   "outputs": [
    {
     "data": {
      "text/html": [
       "<div><style>\n",
       ".dataframe > thead > tr,\n",
       ".dataframe > tbody > tr {\n",
       "  text-align: right;\n",
       "  white-space: pre-wrap;\n",
       "}\n",
       "</style>\n",
       "<small>shape: (193_928, 6)</small><table border=\"1\" class=\"dataframe\"><thead><tr><th>Gene stable ID</th><th>Chromosome/scaffold name</th><th>start2 (bp)</th><th>end2 (bp)</th><th>GOSlim GOA Accession(s)</th><th>GOSlim GOA Description</th></tr><tr><td>str</td><td>str</td><td>str</td><td>str</td><td>str</td><td>str</td></tr></thead><tbody><tr><td>&quot;ENSG0000024348…</td><td>&quot;1&quot;</td><td>&quot;29554&quot;</td><td>&quot;31109&quot;</td><td>&quot;GO:0031047&quot;</td><td>&quot;gene silencing…</td></tr><tr><td>&quot;ENSG0000028433…</td><td>&quot;1&quot;</td><td>&quot;30366&quot;</td><td>&quot;30503&quot;</td><td>&quot;GO:0031047&quot;</td><td>&quot;gene silencing…</td></tr><tr><td>&quot;ENSG0000018609…</td><td>&quot;1&quot;</td><td>&quot;65419&quot;</td><td>&quot;71585&quot;</td><td>&quot;GO:0023052&quot;</td><td>&quot;signaling&quot;</td></tr><tr><td>&quot;ENSG0000018609…</td><td>&quot;1&quot;</td><td>&quot;65419&quot;</td><td>&quot;71585&quot;</td><td>&quot;GO:0060089&quot;</td><td>&quot;molecular tran…</td></tr><tr><td>&quot;ENSG0000018609…</td><td>&quot;1&quot;</td><td>&quot;65419&quot;</td><td>&quot;71585&quot;</td><td>&quot;GO:0005886&quot;</td><td>&quot;plasma membran…</td></tr><tr><td>&quot;ENSG0000018609…</td><td>&quot;1&quot;</td><td>&quot;65419&quot;</td><td>&quot;71585&quot;</td><td>&quot;GO:0050877&quot;</td><td>&quot;nervous system…</td></tr><tr><td>&quot;ENSG0000022262…</td><td>&quot;1&quot;</td><td>&quot;157784&quot;</td><td>&quot;157887&quot;</td><td>&quot;GO:0003723&quot;</td><td>&quot;RNA binding&quot;</td></tr><tr><td>&quot;ENSG0000022262…</td><td>&quot;1&quot;</td><td>&quot;157784&quot;</td><td>&quot;157887&quot;</td><td>&quot;GO:0065003&quot;</td><td>&quot;protein-contai…</td></tr><tr><td>&quot;ENSG0000022262…</td><td>&quot;1&quot;</td><td>&quot;157784&quot;</td><td>&quot;157887&quot;</td><td>&quot;GO:0016071&quot;</td><td>&quot;mRNA metabolic…</td></tr><tr><td>&quot;ENSG0000022262…</td><td>&quot;1&quot;</td><td>&quot;157784&quot;</td><td>&quot;157887&quot;</td><td>&quot;GO:0043226&quot;</td><td>&quot;organelle&quot;</td></tr><tr><td>&quot;ENSG0000022262…</td><td>&quot;1&quot;</td><td>&quot;157784&quot;</td><td>&quot;157887&quot;</td><td>&quot;GO:0005634&quot;</td><td>&quot;nucleus&quot;</td></tr><tr><td>&quot;ENSG0000028473…</td><td>&quot;1&quot;</td><td>&quot;450740&quot;</td><td>&quot;451678&quot;</td><td>&quot;GO:0023052&quot;</td><td>&quot;signaling&quot;</td></tr><tr><td>&hellip;</td><td>&hellip;</td><td>&hellip;</td><td>&hellip;</td><td>&hellip;</td><td>&hellip;</td></tr><tr><td>&quot;ENSG0000025294…</td><td>&quot;Y&quot;</td><td>&quot;26360989&quot;</td><td>&quot;26361092&quot;</td><td>&quot;GO:0016071&quot;</td><td>&quot;mRNA metabolic…</td></tr><tr><td>&quot;ENSG0000025294…</td><td>&quot;Y&quot;</td><td>&quot;26360989&quot;</td><td>&quot;26361092&quot;</td><td>&quot;GO:0043226&quot;</td><td>&quot;organelle&quot;</td></tr><tr><td>&quot;ENSG0000025294…</td><td>&quot;Y&quot;</td><td>&quot;26360989&quot;</td><td>&quot;26361092&quot;</td><td>&quot;GO:0005634&quot;</td><td>&quot;nucleus&quot;</td></tr><tr><td>&quot;ENSG0000029236…</td><td>&quot;Y&quot;</td><td>&quot;57067865&quot;</td><td>&quot;57130289&quot;</td><td>&quot;GO:0016192&quot;</td><td>&quot;vesicle-mediat…</td></tr><tr><td>&quot;ENSG0000029236…</td><td>&quot;Y&quot;</td><td>&quot;57067865&quot;</td><td>&quot;57130289&quot;</td><td>&quot;GO:0043226&quot;</td><td>&quot;organelle&quot;</td></tr><tr><td>&quot;ENSG0000029236…</td><td>&quot;Y&quot;</td><td>&quot;57067865&quot;</td><td>&quot;57130289&quot;</td><td>&quot;GO:0005794&quot;</td><td>&quot;Golgi apparatu…</td></tr><tr><td>&quot;ENSG0000029237…</td><td>&quot;Y&quot;</td><td>&quot;57184216&quot;</td><td>&quot;57197337&quot;</td><td>&quot;GO:0060089&quot;</td><td>&quot;molecular tran…</td></tr><tr><td>&quot;ENSG0000029237…</td><td>&quot;Y&quot;</td><td>&quot;57207346&quot;</td><td>&quot;57212230&quot;</td><td>&quot;GO:0007010&quot;</td><td>&quot;cytoskeleton o…</td></tr><tr><td>&quot;ENSG0000029237…</td><td>&quot;Y&quot;</td><td>&quot;57207346&quot;</td><td>&quot;57212230&quot;</td><td>&quot;GO:0008092&quot;</td><td>&quot;cytoskeletal p…</td></tr><tr><td>&quot;ENSG0000029237…</td><td>&quot;Y&quot;</td><td>&quot;57207346&quot;</td><td>&quot;57212230&quot;</td><td>&quot;GO:0031410&quot;</td><td>&quot;cytoplasmic ve…</td></tr><tr><td>&quot;ENSG0000029237…</td><td>&quot;Y&quot;</td><td>&quot;57207346&quot;</td><td>&quot;57212230&quot;</td><td>&quot;GO:0043226&quot;</td><td>&quot;organelle&quot;</td></tr><tr><td>&quot;ENSG0000029237…</td><td>&quot;Y&quot;</td><td>&quot;57207346&quot;</td><td>&quot;57212230&quot;</td><td>&quot;GO:0005768&quot;</td><td>&quot;endosome&quot;</td></tr></tbody></table></div>"
      ],
      "text/plain": [
       "shape: (193_928, 6)\n",
       "┌─────────────────┬───────────────────┬─────────────┬───────────┬──────────────┬───────────────────┐\n",
       "│ Gene stable ID  ┆ Chromosome/scaffo ┆ start2 (bp) ┆ end2 (bp) ┆ GOSlim GOA   ┆ GOSlim GOA        │\n",
       "│ ---             ┆ ld name           ┆ ---         ┆ ---       ┆ Accession(s) ┆ Description       │\n",
       "│ str             ┆ ---               ┆ str         ┆ str       ┆ ---          ┆ ---               │\n",
       "│                 ┆ str               ┆             ┆           ┆ str          ┆ str               │\n",
       "╞═════════════════╪═══════════════════╪═════════════╪═══════════╪══════════════╪═══════════════════╡\n",
       "│ ENSG00000243485 ┆ 1                 ┆ 29554       ┆ 31109     ┆ GO:0031047   ┆ gene silencing by │\n",
       "│                 ┆                   ┆             ┆           ┆              ┆ RNA               │\n",
       "│ ENSG00000284332 ┆ 1                 ┆ 30366       ┆ 30503     ┆ GO:0031047   ┆ gene silencing by │\n",
       "│                 ┆                   ┆             ┆           ┆              ┆ RNA               │\n",
       "│ ENSG00000186092 ┆ 1                 ┆ 65419       ┆ 71585     ┆ GO:0023052   ┆ signaling         │\n",
       "│ ENSG00000186092 ┆ 1                 ┆ 65419       ┆ 71585     ┆ GO:0060089   ┆ molecular         │\n",
       "│                 ┆                   ┆             ┆           ┆              ┆ transducer        │\n",
       "│                 ┆                   ┆             ┆           ┆              ┆ activity          │\n",
       "│ …               ┆ …                 ┆ …           ┆ …         ┆ …            ┆ …                 │\n",
       "│ ENSG00000292372 ┆ Y                 ┆ 57207346    ┆ 57212230  ┆ GO:0008092   ┆ cytoskeletal      │\n",
       "│                 ┆                   ┆             ┆           ┆              ┆ protein binding   │\n",
       "│ ENSG00000292372 ┆ Y                 ┆ 57207346    ┆ 57212230  ┆ GO:0031410   ┆ cytoplasmic       │\n",
       "│                 ┆                   ┆             ┆           ┆              ┆ vesicle           │\n",
       "│ ENSG00000292372 ┆ Y                 ┆ 57207346    ┆ 57212230  ┆ GO:0043226   ┆ organelle         │\n",
       "│ ENSG00000292372 ┆ Y                 ┆ 57207346    ┆ 57212230  ┆ GO:0005768   ┆ endosome          │\n",
       "└─────────────────┴───────────────────┴─────────────┴───────────┴──────────────┴───────────────────┘"
      ]
     },
     "metadata": {},
     "output_type": "display_data"
    }
   ],
   "source": [
    "ensembl_goslim_human = pl.read_csv(\"../data/biomart_goslim/biomart_human_goslim_R110.tsv\", \n",
    "                                   separator=\"\\t\",\n",
    "                                   infer_schema_length=0) # Ensembl release 110\n",
    "ensembl_goslim_human_unique = ensembl_goslim_human.unique(keep=\"first\", maintain_order=True)\n",
    "display(ensembl_goslim_human_unique)"
   ]
  },
  {
   "cell_type": "code",
   "execution_count": 9,
   "metadata": {},
   "outputs": [
    {
     "data": {
      "text/html": [
       "<div><style>\n",
       ".dataframe > thead > tr,\n",
       ".dataframe > tbody > tr {\n",
       "  text-align: right;\n",
       "  white-space: pre-wrap;\n",
       "}\n",
       "</style>\n",
       "<small>shape: (137, 1)</small><table border=\"1\" class=\"dataframe\"><thead><tr><th>GOSlim GOA Accession(s)</th></tr><tr><td>str</td></tr></thead><tbody><tr><td>&quot;GO:0003013&quot;</td></tr><tr><td>&quot;GO:0140313&quot;</td></tr><tr><td>&quot;GO:0005615&quot;</td></tr><tr><td>&quot;GO:0055086&quot;</td></tr><tr><td>&quot;GO:0043226&quot;</td></tr><tr><td>&quot;GO:0016874&quot;</td></tr><tr><td>&quot;GO:0006520&quot;</td></tr><tr><td>&quot;GO:0012501&quot;</td></tr><tr><td>&quot;GO:0007010&quot;</td></tr><tr><td>&quot;GO:0045182&quot;</td></tr><tr><td>&quot;GO:0065003&quot;</td></tr><tr><td>&quot;GO:0061024&quot;</td></tr><tr><td>&hellip;</td></tr><tr><td>&quot;GO:0030154&quot;</td></tr><tr><td>&quot;GO:0001618&quot;</td></tr><tr><td>&quot;GO:1901135&quot;</td></tr><tr><td>&quot;GO:0005840&quot;</td></tr><tr><td>&quot;GO:0016853&quot;</td></tr><tr><td>&quot;GO:0006310&quot;</td></tr><tr><td>&quot;GO:0005635&quot;</td></tr><tr><td>&quot;GO:0005815&quot;</td></tr><tr><td>&quot;GO:0003012&quot;</td></tr><tr><td>&quot;GO:0098754&quot;</td></tr><tr><td>&quot;GO:0007163&quot;</td></tr><tr><td>&quot;GO:0003014&quot;</td></tr></tbody></table></div>"
      ],
      "text/plain": [
       "shape: (137, 1)\n",
       "┌─────────────────────────┐\n",
       "│ GOSlim GOA Accession(s) │\n",
       "│ ---                     │\n",
       "│ str                     │\n",
       "╞═════════════════════════╡\n",
       "│ GO:0003013              │\n",
       "│ GO:0140313              │\n",
       "│ GO:0005615              │\n",
       "│ GO:0055086              │\n",
       "│ …                       │\n",
       "│ GO:0003012              │\n",
       "│ GO:0098754              │\n",
       "│ GO:0007163              │\n",
       "│ GO:0003014              │\n",
       "└─────────────────────────┘"
      ]
     },
     "metadata": {},
     "output_type": "display_data"
    }
   ],
   "source": [
    "unique_goslim_terms_human = ensembl_goslim_human_unique.unique(subset=['GOSlim GOA Accession(s)']).select('GOSlim GOA Accession(s)')\n",
    "display(unique_goslim_terms_human)"
   ]
  },
  {
   "cell_type": "code",
   "execution_count": 10,
   "metadata": {},
   "outputs": [
    {
     "data": {
      "text/html": [
       "<div><style>\n",
       ".dataframe > thead > tr,\n",
       ".dataframe > tbody > tr {\n",
       "  text-align: right;\n",
       "  white-space: pre-wrap;\n",
       "}\n",
       "</style>\n",
       "<small>shape: (137, 2)</small><table border=\"1\" class=\"dataframe\"><thead><tr><th>GOSlim GOA Accession(s)</th><th>GOSlim_domain</th></tr><tr><td>str</td><td>str</td></tr></thead><tbody><tr><td>&quot;GO:0003013&quot;</td><td>&quot;biological_pro…</td></tr><tr><td>&quot;GO:0140313&quot;</td><td>&quot;molecular_func…</td></tr><tr><td>&quot;GO:0005615&quot;</td><td>&quot;cellular_compo…</td></tr><tr><td>&quot;GO:0055086&quot;</td><td>&quot;biological_pro…</td></tr><tr><td>&quot;GO:0043226&quot;</td><td>&quot;cellular_compo…</td></tr><tr><td>&quot;GO:0016874&quot;</td><td>&quot;molecular_func…</td></tr><tr><td>&quot;GO:0006520&quot;</td><td>&quot;biological_pro…</td></tr><tr><td>&quot;GO:0012501&quot;</td><td>&quot;biological_pro…</td></tr><tr><td>&quot;GO:0007010&quot;</td><td>&quot;biological_pro…</td></tr><tr><td>&quot;GO:0045182&quot;</td><td>&quot;molecular_func…</td></tr><tr><td>&quot;GO:0065003&quot;</td><td>&quot;biological_pro…</td></tr><tr><td>&quot;GO:0061024&quot;</td><td>&quot;biological_pro…</td></tr><tr><td>&hellip;</td><td>&hellip;</td></tr><tr><td>&quot;GO:0030154&quot;</td><td>&quot;biological_pro…</td></tr><tr><td>&quot;GO:0001618&quot;</td><td>&quot;molecular_func…</td></tr><tr><td>&quot;GO:1901135&quot;</td><td>&quot;biological_pro…</td></tr><tr><td>&quot;GO:0005840&quot;</td><td>&quot;cellular_compo…</td></tr><tr><td>&quot;GO:0016853&quot;</td><td>&quot;molecular_func…</td></tr><tr><td>&quot;GO:0006310&quot;</td><td>&quot;biological_pro…</td></tr><tr><td>&quot;GO:0005635&quot;</td><td>&quot;cellular_compo…</td></tr><tr><td>&quot;GO:0005815&quot;</td><td>&quot;cellular_compo…</td></tr><tr><td>&quot;GO:0003012&quot;</td><td>&quot;biological_pro…</td></tr><tr><td>&quot;GO:0098754&quot;</td><td>&quot;biological_pro…</td></tr><tr><td>&quot;GO:0007163&quot;</td><td>&quot;biological_pro…</td></tr><tr><td>&quot;GO:0003014&quot;</td><td>&quot;biological_pro…</td></tr></tbody></table></div>"
      ],
      "text/plain": [
       "shape: (137, 2)\n",
       "┌─────────────────────────┬────────────────────┐\n",
       "│ GOSlim GOA Accession(s) ┆ GOSlim_domain      │\n",
       "│ ---                     ┆ ---                │\n",
       "│ str                     ┆ str                │\n",
       "╞═════════════════════════╪════════════════════╡\n",
       "│ GO:0003013              ┆ biological_process │\n",
       "│ GO:0140313              ┆ molecular_function │\n",
       "│ GO:0005615              ┆ cellular_component │\n",
       "│ GO:0055086              ┆ biological_process │\n",
       "│ …                       ┆ …                  │\n",
       "│ GO:0003012              ┆ biological_process │\n",
       "│ GO:0098754              ┆ biological_process │\n",
       "│ GO:0007163              ┆ biological_process │\n",
       "│ GO:0003014              ┆ biological_process │\n",
       "└─────────────────────────┴────────────────────┘"
      ]
     },
     "metadata": {},
     "output_type": "display_data"
    }
   ],
   "source": [
    "# pandas -> human_goslim_df[\"GOSlim_domain\"] = human_goslim_df[\"GOSlim GOA Accession(s)\"].apply(get_domain)\n",
    "human_goslim_df = unique_goslim_terms_human.with_columns(\n",
    "    unique_goslim_terms_human[\"GOSlim GOA Accession(s)\"].map_elements(get_domain, return_dtype=str).alias(\"GOSlim_domain\")\n",
    ")\n",
    "time.sleep(10)\n",
    "display(human_goslim_df)"
   ]
  },
  {
   "cell_type": "code",
   "execution_count": 12,
   "metadata": {},
   "outputs": [
    {
     "data": {
      "text/html": [
       "<div><style>\n",
       ".dataframe > thead > tr,\n",
       ".dataframe > tbody > tr {\n",
       "  text-align: right;\n",
       "  white-space: pre-wrap;\n",
       "}\n",
       "</style>\n",
       "<small>shape: (193_928, 7)</small><table border=\"1\" class=\"dataframe\"><thead><tr><th>Gene stable ID</th><th>Chromosome/scaffold name</th><th>start2 (bp)</th><th>end2 (bp)</th><th>GOSlim GOA Accession(s)</th><th>GOSlim GOA Description</th><th>GOSlim_domain</th></tr><tr><td>str</td><td>str</td><td>str</td><td>str</td><td>str</td><td>str</td><td>str</td></tr></thead><tbody><tr><td>&quot;ENSG0000024348…</td><td>&quot;1&quot;</td><td>&quot;29554&quot;</td><td>&quot;31109&quot;</td><td>&quot;GO:0031047&quot;</td><td>&quot;gene silencing…</td><td>&quot;biological_pro…</td></tr><tr><td>&quot;ENSG0000028433…</td><td>&quot;1&quot;</td><td>&quot;30366&quot;</td><td>&quot;30503&quot;</td><td>&quot;GO:0031047&quot;</td><td>&quot;gene silencing…</td><td>&quot;biological_pro…</td></tr><tr><td>&quot;ENSG0000018609…</td><td>&quot;1&quot;</td><td>&quot;65419&quot;</td><td>&quot;71585&quot;</td><td>&quot;GO:0023052&quot;</td><td>&quot;signaling&quot;</td><td>&quot;biological_pro…</td></tr><tr><td>&quot;ENSG0000018609…</td><td>&quot;1&quot;</td><td>&quot;65419&quot;</td><td>&quot;71585&quot;</td><td>&quot;GO:0060089&quot;</td><td>&quot;molecular tran…</td><td>&quot;molecular_func…</td></tr><tr><td>&quot;ENSG0000018609…</td><td>&quot;1&quot;</td><td>&quot;65419&quot;</td><td>&quot;71585&quot;</td><td>&quot;GO:0005886&quot;</td><td>&quot;plasma membran…</td><td>&quot;cellular_compo…</td></tr><tr><td>&quot;ENSG0000018609…</td><td>&quot;1&quot;</td><td>&quot;65419&quot;</td><td>&quot;71585&quot;</td><td>&quot;GO:0050877&quot;</td><td>&quot;nervous system…</td><td>&quot;biological_pro…</td></tr><tr><td>&quot;ENSG0000022262…</td><td>&quot;1&quot;</td><td>&quot;157784&quot;</td><td>&quot;157887&quot;</td><td>&quot;GO:0003723&quot;</td><td>&quot;RNA binding&quot;</td><td>&quot;molecular_func…</td></tr><tr><td>&quot;ENSG0000022262…</td><td>&quot;1&quot;</td><td>&quot;157784&quot;</td><td>&quot;157887&quot;</td><td>&quot;GO:0065003&quot;</td><td>&quot;protein-contai…</td><td>&quot;biological_pro…</td></tr><tr><td>&quot;ENSG0000022262…</td><td>&quot;1&quot;</td><td>&quot;157784&quot;</td><td>&quot;157887&quot;</td><td>&quot;GO:0016071&quot;</td><td>&quot;mRNA metabolic…</td><td>&quot;biological_pro…</td></tr><tr><td>&quot;ENSG0000022262…</td><td>&quot;1&quot;</td><td>&quot;157784&quot;</td><td>&quot;157887&quot;</td><td>&quot;GO:0043226&quot;</td><td>&quot;organelle&quot;</td><td>&quot;cellular_compo…</td></tr><tr><td>&quot;ENSG0000022262…</td><td>&quot;1&quot;</td><td>&quot;157784&quot;</td><td>&quot;157887&quot;</td><td>&quot;GO:0005634&quot;</td><td>&quot;nucleus&quot;</td><td>&quot;cellular_compo…</td></tr><tr><td>&quot;ENSG0000028473…</td><td>&quot;1&quot;</td><td>&quot;450740&quot;</td><td>&quot;451678&quot;</td><td>&quot;GO:0023052&quot;</td><td>&quot;signaling&quot;</td><td>&quot;biological_pro…</td></tr><tr><td>&hellip;</td><td>&hellip;</td><td>&hellip;</td><td>&hellip;</td><td>&hellip;</td><td>&hellip;</td><td>&hellip;</td></tr><tr><td>&quot;ENSG0000025294…</td><td>&quot;Y&quot;</td><td>&quot;26360989&quot;</td><td>&quot;26361092&quot;</td><td>&quot;GO:0016071&quot;</td><td>&quot;mRNA metabolic…</td><td>&quot;biological_pro…</td></tr><tr><td>&quot;ENSG0000025294…</td><td>&quot;Y&quot;</td><td>&quot;26360989&quot;</td><td>&quot;26361092&quot;</td><td>&quot;GO:0043226&quot;</td><td>&quot;organelle&quot;</td><td>&quot;cellular_compo…</td></tr><tr><td>&quot;ENSG0000025294…</td><td>&quot;Y&quot;</td><td>&quot;26360989&quot;</td><td>&quot;26361092&quot;</td><td>&quot;GO:0005634&quot;</td><td>&quot;nucleus&quot;</td><td>&quot;cellular_compo…</td></tr><tr><td>&quot;ENSG0000029236…</td><td>&quot;Y&quot;</td><td>&quot;57067865&quot;</td><td>&quot;57130289&quot;</td><td>&quot;GO:0016192&quot;</td><td>&quot;vesicle-mediat…</td><td>&quot;biological_pro…</td></tr><tr><td>&quot;ENSG0000029236…</td><td>&quot;Y&quot;</td><td>&quot;57067865&quot;</td><td>&quot;57130289&quot;</td><td>&quot;GO:0043226&quot;</td><td>&quot;organelle&quot;</td><td>&quot;cellular_compo…</td></tr><tr><td>&quot;ENSG0000029236…</td><td>&quot;Y&quot;</td><td>&quot;57067865&quot;</td><td>&quot;57130289&quot;</td><td>&quot;GO:0005794&quot;</td><td>&quot;Golgi apparatu…</td><td>&quot;cellular_compo…</td></tr><tr><td>&quot;ENSG0000029237…</td><td>&quot;Y&quot;</td><td>&quot;57184216&quot;</td><td>&quot;57197337&quot;</td><td>&quot;GO:0060089&quot;</td><td>&quot;molecular tran…</td><td>&quot;molecular_func…</td></tr><tr><td>&quot;ENSG0000029237…</td><td>&quot;Y&quot;</td><td>&quot;57207346&quot;</td><td>&quot;57212230&quot;</td><td>&quot;GO:0007010&quot;</td><td>&quot;cytoskeleton o…</td><td>&quot;biological_pro…</td></tr><tr><td>&quot;ENSG0000029237…</td><td>&quot;Y&quot;</td><td>&quot;57207346&quot;</td><td>&quot;57212230&quot;</td><td>&quot;GO:0008092&quot;</td><td>&quot;cytoskeletal p…</td><td>&quot;molecular_func…</td></tr><tr><td>&quot;ENSG0000029237…</td><td>&quot;Y&quot;</td><td>&quot;57207346&quot;</td><td>&quot;57212230&quot;</td><td>&quot;GO:0031410&quot;</td><td>&quot;cytoplasmic ve…</td><td>&quot;cellular_compo…</td></tr><tr><td>&quot;ENSG0000029237…</td><td>&quot;Y&quot;</td><td>&quot;57207346&quot;</td><td>&quot;57212230&quot;</td><td>&quot;GO:0043226&quot;</td><td>&quot;organelle&quot;</td><td>&quot;cellular_compo…</td></tr><tr><td>&quot;ENSG0000029237…</td><td>&quot;Y&quot;</td><td>&quot;57207346&quot;</td><td>&quot;57212230&quot;</td><td>&quot;GO:0005768&quot;</td><td>&quot;endosome&quot;</td><td>&quot;cellular_compo…</td></tr></tbody></table></div>"
      ],
      "text/plain": [
       "shape: (193_928, 7)\n",
       "┌──────────────┬──────────────┬─────────────┬───────────┬──────────────┬─────────────┬─────────────┐\n",
       "│ Gene stable  ┆ Chromosome/s ┆ start2 (bp) ┆ end2 (bp) ┆ GOSlim GOA   ┆ GOSlim GOA  ┆ GOSlim_doma │\n",
       "│ ID           ┆ caffold name ┆ ---         ┆ ---       ┆ Accession(s) ┆ Description ┆ in          │\n",
       "│ ---          ┆ ---          ┆ str         ┆ str       ┆ ---          ┆ ---         ┆ ---         │\n",
       "│ str          ┆ str          ┆             ┆           ┆ str          ┆ str         ┆ str         │\n",
       "╞══════════════╪══════════════╪═════════════╪═══════════╪══════════════╪═════════════╪═════════════╡\n",
       "│ ENSG00000243 ┆ 1            ┆ 29554       ┆ 31109     ┆ GO:0031047   ┆ gene        ┆ biological_ │\n",
       "│ 485          ┆              ┆             ┆           ┆              ┆ silencing   ┆ process     │\n",
       "│              ┆              ┆             ┆           ┆              ┆ by RNA      ┆             │\n",
       "│ ENSG00000284 ┆ 1            ┆ 30366       ┆ 30503     ┆ GO:0031047   ┆ gene        ┆ biological_ │\n",
       "│ 332          ┆              ┆             ┆           ┆              ┆ silencing   ┆ process     │\n",
       "│              ┆              ┆             ┆           ┆              ┆ by RNA      ┆             │\n",
       "│ ENSG00000186 ┆ 1            ┆ 65419       ┆ 71585     ┆ GO:0023052   ┆ signaling   ┆ biological_ │\n",
       "│ 092          ┆              ┆             ┆           ┆              ┆             ┆ process     │\n",
       "│ ENSG00000186 ┆ 1            ┆ 65419       ┆ 71585     ┆ GO:0060089   ┆ molecular   ┆ molecular_f │\n",
       "│ 092          ┆              ┆             ┆           ┆              ┆ transducer  ┆ unction     │\n",
       "│              ┆              ┆             ┆           ┆              ┆ activity    ┆             │\n",
       "│ …            ┆ …            ┆ …           ┆ …         ┆ …            ┆ …           ┆ …           │\n",
       "│ ENSG00000292 ┆ Y            ┆ 57207346    ┆ 57212230  ┆ GO:0008092   ┆ cytoskeleta ┆ molecular_f │\n",
       "│ 372          ┆              ┆             ┆           ┆              ┆ l protein   ┆ unction     │\n",
       "│              ┆              ┆             ┆           ┆              ┆ binding     ┆             │\n",
       "│ ENSG00000292 ┆ Y            ┆ 57207346    ┆ 57212230  ┆ GO:0031410   ┆ cytoplasmic ┆ cellular_co │\n",
       "│ 372          ┆              ┆             ┆           ┆              ┆ vesicle     ┆ mponent     │\n",
       "│ ENSG00000292 ┆ Y            ┆ 57207346    ┆ 57212230  ┆ GO:0043226   ┆ organelle   ┆ cellular_co │\n",
       "│ 372          ┆              ┆             ┆           ┆              ┆             ┆ mponent     │\n",
       "│ ENSG00000292 ┆ Y            ┆ 57207346    ┆ 57212230  ┆ GO:0005768   ┆ endosome    ┆ cellular_co │\n",
       "│ 372          ┆              ┆             ┆           ┆              ┆             ┆ mponent     │\n",
       "└──────────────┴──────────────┴─────────────┴───────────┴──────────────┴─────────────┴─────────────┘"
      ]
     },
     "metadata": {},
     "output_type": "display_data"
    }
   ],
   "source": [
    "# pandas -> human_merged_goslim_domain = pd.merge(ensembl_goslim_human_unique, human_goslim_df,how=\"left\",on=\"GOSlim GOA Accession(s)\")\n",
    "\n",
    "human_merged_goslim_domain = ensembl_goslim_human_unique.join(\n",
    "    human_goslim_df, \n",
    "    on=\"GOSlim GOA Accession(s)\", \n",
    "    how=\"left\")\n",
    "display(human_merged_goslim_domain)"
   ]
  },
  {
   "cell_type": "markdown",
   "metadata": {},
   "source": [
    "## RICE"
   ]
  },
  {
   "cell_type": "code",
   "execution_count": 14,
   "metadata": {},
   "outputs": [
    {
     "data": {
      "text/html": [
       "<div><style>\n",
       ".dataframe > thead > tr,\n",
       ".dataframe > tbody > tr {\n",
       "  text-align: right;\n",
       "  white-space: pre-wrap;\n",
       "}\n",
       "</style>\n",
       "<small>shape: (219_499, 6)</small><table border=\"1\" class=\"dataframe\"><thead><tr><th>Gene stable ID</th><th>Chromosome/scaffold name</th><th>start1 (bp)</th><th>end1 (bp)</th><th>GOSlim GOA Accession(s)</th><th>GOSlim GOA Description</th></tr><tr><td>str</td><td>str</td><td>str</td><td>str</td><td>str</td><td>str</td></tr></thead><tbody><tr><td>&quot;Os01g0100100&quot;</td><td>&quot;1&quot;</td><td>&quot;2983&quot;</td><td>&quot;10815&quot;</td><td>&quot;GO:0006810&quot;</td><td>&quot;transport&quot;</td></tr><tr><td>&quot;Os01g0100100&quot;</td><td>&quot;1&quot;</td><td>&quot;2983&quot;</td><td>&quot;10815&quot;</td><td>&quot;GO:0008150&quot;</td><td>&quot;biological_pro…</td></tr><tr><td>&quot;Os01g0100100&quot;</td><td>&quot;1&quot;</td><td>&quot;2983&quot;</td><td>&quot;10815&quot;</td><td>&quot;GO:0009987&quot;</td><td>&quot;cellular proce…</td></tr><tr><td>&quot;Os01g0100100&quot;</td><td>&quot;1&quot;</td><td>&quot;2983&quot;</td><td>&quot;10815&quot;</td><td>&quot;GO:0003674&quot;</td><td>&quot;molecular_func…</td></tr><tr><td>&quot;Os01g0100100&quot;</td><td>&quot;1&quot;</td><td>&quot;2983&quot;</td><td>&quot;10815&quot;</td><td>&quot;GO:0030234&quot;</td><td>&quot;enzyme regulat…</td></tr><tr><td>&quot;Os01g0100100&quot;</td><td>&quot;1&quot;</td><td>&quot;2983&quot;</td><td>&quot;10815&quot;</td><td>&quot;GO:0065009&quot;</td><td>&quot;regulation of …</td></tr><tr><td>&quot;Os01g0100300&quot;</td><td>&quot;1&quot;</td><td>&quot;11372&quot;</td><td>&quot;12284&quot;</td><td>&quot;GO:0003674&quot;</td><td>&quot;molecular_func…</td></tr><tr><td>&quot;Os01g0100300&quot;</td><td>&quot;1&quot;</td><td>&quot;11372&quot;</td><td>&quot;12284&quot;</td><td>&quot;GO:0003824&quot;</td><td>&quot;catalytic acti…</td></tr><tr><td>&quot;Os01g0100300&quot;</td><td>&quot;1&quot;</td><td>&quot;11372&quot;</td><td>&quot;12284&quot;</td><td>&quot;GO:0005488&quot;</td><td>&quot;binding&quot;</td></tr><tr><td>&quot;Os01g0100400&quot;</td><td>&quot;1&quot;</td><td>&quot;12721&quot;</td><td>&quot;15685&quot;</td><td>&quot;GO:0003674&quot;</td><td>&quot;molecular_func…</td></tr><tr><td>&quot;Os01g0100400&quot;</td><td>&quot;1&quot;</td><td>&quot;12721&quot;</td><td>&quot;15685&quot;</td><td>&quot;GO:0005488&quot;</td><td>&quot;binding&quot;</td></tr><tr><td>&quot;Os01g0100400&quot;</td><td>&quot;1&quot;</td><td>&quot;12721&quot;</td><td>&quot;15685&quot;</td><td>&quot;GO:0005575&quot;</td><td>&quot;cellular_compo…</td></tr><tr><td>&hellip;</td><td>&hellip;</td><td>&hellip;</td><td>&hellip;</td><td>&hellip;</td><td>&hellip;</td></tr><tr><td>&quot;gene-rps19&quot;</td><td>&quot;Pt&quot;</td><td>&quot;134200&quot;</td><td>&quot;134481&quot;</td><td>&quot;GO:0008152&quot;</td><td>&quot;metabolic proc…</td></tr><tr><td>&quot;gene-rps19&quot;</td><td>&quot;Pt&quot;</td><td>&quot;134200&quot;</td><td>&quot;134481&quot;</td><td>&quot;GO:0009058&quot;</td><td>&quot;biosynthetic p…</td></tr><tr><td>&quot;gene-rps19&quot;</td><td>&quot;Pt&quot;</td><td>&quot;134200&quot;</td><td>&quot;134481&quot;</td><td>&quot;GO:0019538&quot;</td><td>&quot;protein metabo…</td></tr><tr><td>&quot;gene-rps19&quot;</td><td>&quot;Pt&quot;</td><td>&quot;134200&quot;</td><td>&quot;134481&quot;</td><td>&quot;GO:0006412&quot;</td><td>&quot;translation&quot;</td></tr><tr><td>&quot;gene-rps19&quot;</td><td>&quot;Pt&quot;</td><td>&quot;134200&quot;</td><td>&quot;134481&quot;</td><td>&quot;GO:0005575&quot;</td><td>&quot;cellular_compo…</td></tr><tr><td>&quot;gene-rps19&quot;</td><td>&quot;Pt&quot;</td><td>&quot;134200&quot;</td><td>&quot;134481&quot;</td><td>&quot;GO:0005622&quot;</td><td>&quot;intracellular …</td></tr><tr><td>&quot;gene-rps19&quot;</td><td>&quot;Pt&quot;</td><td>&quot;134200&quot;</td><td>&quot;134481&quot;</td><td>&quot;GO:0005840&quot;</td><td>&quot;ribosome&quot;</td></tr><tr><td>&quot;gene-rps19&quot;</td><td>&quot;Pt&quot;</td><td>&quot;134200&quot;</td><td>&quot;134481&quot;</td><td>&quot;GO:0003674&quot;</td><td>&quot;molecular_func…</td></tr><tr><td>&quot;gene-rps19&quot;</td><td>&quot;Pt&quot;</td><td>&quot;134200&quot;</td><td>&quot;134481&quot;</td><td>&quot;GO:0005198&quot;</td><td>&quot;structural mol…</td></tr><tr><td>&quot;gene-rps19&quot;</td><td>&quot;Pt&quot;</td><td>&quot;134200&quot;</td><td>&quot;134481&quot;</td><td>&quot;GO:0005488&quot;</td><td>&quot;binding&quot;</td></tr><tr><td>&quot;gene-rps19&quot;</td><td>&quot;Pt&quot;</td><td>&quot;134200&quot;</td><td>&quot;134481&quot;</td><td>&quot;GO:0003723&quot;</td><td>&quot;RNA binding&quot;</td></tr><tr><td>&quot;gene-rps19&quot;</td><td>&quot;Pt&quot;</td><td>&quot;134200&quot;</td><td>&quot;134481&quot;</td><td>&quot;GO:0003676&quot;</td><td>&quot;nucleic acid b…</td></tr></tbody></table></div>"
      ],
      "text/plain": [
       "shape: (219_499, 6)\n",
       "┌────────────────┬────────────────────┬─────────────┬───────────┬──────────────┬───────────────────┐\n",
       "│ Gene stable ID ┆ Chromosome/scaffol ┆ start1 (bp) ┆ end1 (bp) ┆ GOSlim GOA   ┆ GOSlim GOA        │\n",
       "│ ---            ┆ d name             ┆ ---         ┆ ---       ┆ Accession(s) ┆ Description       │\n",
       "│ str            ┆ ---                ┆ str         ┆ str       ┆ ---          ┆ ---               │\n",
       "│                ┆ str                ┆             ┆           ┆ str          ┆ str               │\n",
       "╞════════════════╪════════════════════╪═════════════╪═══════════╪══════════════╪═══════════════════╡\n",
       "│ Os01g0100100   ┆ 1                  ┆ 2983        ┆ 10815     ┆ GO:0006810   ┆ transport         │\n",
       "│ Os01g0100100   ┆ 1                  ┆ 2983        ┆ 10815     ┆ GO:0008150   ┆ biological_proces │\n",
       "│                ┆                    ┆             ┆           ┆              ┆ s                 │\n",
       "│ Os01g0100100   ┆ 1                  ┆ 2983        ┆ 10815     ┆ GO:0009987   ┆ cellular process  │\n",
       "│ Os01g0100100   ┆ 1                  ┆ 2983        ┆ 10815     ┆ GO:0003674   ┆ molecular_functio │\n",
       "│                ┆                    ┆             ┆           ┆              ┆ n                 │\n",
       "│ …              ┆ …                  ┆ …           ┆ …         ┆ …            ┆ …                 │\n",
       "│ gene-rps19     ┆ Pt                 ┆ 134200      ┆ 134481    ┆ GO:0005198   ┆ structural        │\n",
       "│                ┆                    ┆             ┆           ┆              ┆ molecule activity │\n",
       "│ gene-rps19     ┆ Pt                 ┆ 134200      ┆ 134481    ┆ GO:0005488   ┆ binding           │\n",
       "│ gene-rps19     ┆ Pt                 ┆ 134200      ┆ 134481    ┆ GO:0003723   ┆ RNA binding       │\n",
       "│ gene-rps19     ┆ Pt                 ┆ 134200      ┆ 134481    ┆ GO:0003676   ┆ nucleic acid      │\n",
       "│                ┆                    ┆             ┆           ┆              ┆ binding           │\n",
       "└────────────────┴────────────────────┴─────────────┴───────────┴──────────────┴───────────────────┘"
      ]
     },
     "metadata": {},
     "output_type": "display_data"
    }
   ],
   "source": [
    "ensembl_goslim_rice = pl.read_csv(\"../data/biomart_goslim/biomart_rice_goslim_R56.tsv\", \n",
    "                                  separator=\"\\t\",\n",
    "                                  infer_schema_length=0) # Ensembl release 56\n",
    "ensembl_goslim_rice_unique = ensembl_goslim_rice.unique(keep=\"first\", maintain_order=True)\n",
    "display(ensembl_goslim_rice_unique)"
   ]
  },
  {
   "cell_type": "code",
   "execution_count": 15,
   "metadata": {},
   "outputs": [
    {
     "data": {
      "text/html": [
       "<div><style>\n",
       ".dataframe > thead > tr,\n",
       ".dataframe > tbody > tr {\n",
       "  text-align: right;\n",
       "  white-space: pre-wrap;\n",
       "}\n",
       "</style>\n",
       "<small>shape: (97, 1)</small><table border=\"1\" class=\"dataframe\"><thead><tr><th>GOSlim GOA Accession(s)</th></tr><tr><td>str</td></tr></thead><tbody><tr><td>&quot;GO:0008135&quot;</td></tr><tr><td>&quot;GO:0000003&quot;</td></tr><tr><td>&quot;GO:0003700&quot;</td></tr><tr><td>&quot;GO:0005575&quot;</td></tr><tr><td>&quot;GO:0040007&quot;</td></tr><tr><td>&quot;GO:0005737&quot;</td></tr><tr><td>&quot;GO:0045182&quot;</td></tr><tr><td>&quot;GO:0005739&quot;</td></tr><tr><td>&quot;GO:0009628&quot;</td></tr><tr><td>&quot;GO:0009606&quot;</td></tr><tr><td>&quot;GO:0009058&quot;</td></tr><tr><td>&quot;GO:0009607&quot;</td></tr><tr><td>&hellip;</td></tr><tr><td>&quot;GO:0019748&quot;</td></tr><tr><td>&quot;GO:0006091&quot;</td></tr><tr><td>&quot;GO:0005794&quot;</td></tr><tr><td>&quot;GO:0019825&quot;</td></tr><tr><td>&quot;GO:0040029&quot;</td></tr><tr><td>&quot;GO:0005777&quot;</td></tr><tr><td>&quot;GO:0007165&quot;</td></tr><tr><td>&quot;GO:0008152&quot;</td></tr><tr><td>&quot;GO:0003682&quot;</td></tr><tr><td>&quot;GO:0140110&quot;</td></tr><tr><td>&quot;GO:0030234&quot;</td></tr><tr><td>&quot;GO:0004518&quot;</td></tr></tbody></table></div>"
      ],
      "text/plain": [
       "shape: (97, 1)\n",
       "┌─────────────────────────┐\n",
       "│ GOSlim GOA Accession(s) │\n",
       "│ ---                     │\n",
       "│ str                     │\n",
       "╞═════════════════════════╡\n",
       "│ GO:0008135              │\n",
       "│ GO:0000003              │\n",
       "│ GO:0003700              │\n",
       "│ GO:0005575              │\n",
       "│ …                       │\n",
       "│ GO:0003682              │\n",
       "│ GO:0140110              │\n",
       "│ GO:0030234              │\n",
       "│ GO:0004518              │\n",
       "└─────────────────────────┘"
      ]
     },
     "metadata": {},
     "output_type": "display_data"
    }
   ],
   "source": [
    "unique_goslim_terms_rice = ensembl_goslim_rice_unique.unique(subset=['GOSlim GOA Accession(s)']).select('GOSlim GOA Accession(s)')\n",
    "display(unique_goslim_terms_rice)"
   ]
  },
  {
   "cell_type": "code",
   "execution_count": 16,
   "metadata": {},
   "outputs": [
    {
     "data": {
      "text/html": [
       "<div><style>\n",
       ".dataframe > thead > tr,\n",
       ".dataframe > tbody > tr {\n",
       "  text-align: right;\n",
       "  white-space: pre-wrap;\n",
       "}\n",
       "</style>\n",
       "<small>shape: (97, 2)</small><table border=\"1\" class=\"dataframe\"><thead><tr><th>GOSlim GOA Accession(s)</th><th>GOSlim_domain</th></tr><tr><td>str</td><td>str</td></tr></thead><tbody><tr><td>&quot;GO:0008135&quot;</td><td>&quot;molecular_func…</td></tr><tr><td>&quot;GO:0000003&quot;</td><td>&quot;biological_pro…</td></tr><tr><td>&quot;GO:0003700&quot;</td><td>&quot;molecular_func…</td></tr><tr><td>&quot;GO:0005575&quot;</td><td>&quot;cellular_compo…</td></tr><tr><td>&quot;GO:0040007&quot;</td><td>&quot;biological_pro…</td></tr><tr><td>&quot;GO:0005737&quot;</td><td>&quot;cellular_compo…</td></tr><tr><td>&quot;GO:0045182&quot;</td><td>&quot;molecular_func…</td></tr><tr><td>&quot;GO:0005739&quot;</td><td>&quot;cellular_compo…</td></tr><tr><td>&quot;GO:0009628&quot;</td><td>&quot;biological_pro…</td></tr><tr><td>&quot;GO:0009606&quot;</td><td>&quot;biological_pro…</td></tr><tr><td>&quot;GO:0009058&quot;</td><td>&quot;biological_pro…</td></tr><tr><td>&quot;GO:0009607&quot;</td><td>&quot;biological_pro…</td></tr><tr><td>&hellip;</td><td>&hellip;</td></tr><tr><td>&quot;GO:0019748&quot;</td><td>&quot;biological_pro…</td></tr><tr><td>&quot;GO:0006091&quot;</td><td>&quot;biological_pro…</td></tr><tr><td>&quot;GO:0005794&quot;</td><td>&quot;cellular_compo…</td></tr><tr><td>&quot;GO:0019825&quot;</td><td>&quot;molecular_func…</td></tr><tr><td>&quot;GO:0040029&quot;</td><td>&quot;biological_pro…</td></tr><tr><td>&quot;GO:0005777&quot;</td><td>&quot;cellular_compo…</td></tr><tr><td>&quot;GO:0007165&quot;</td><td>&quot;biological_pro…</td></tr><tr><td>&quot;GO:0008152&quot;</td><td>&quot;biological_pro…</td></tr><tr><td>&quot;GO:0003682&quot;</td><td>&quot;molecular_func…</td></tr><tr><td>&quot;GO:0140110&quot;</td><td>&quot;molecular_func…</td></tr><tr><td>&quot;GO:0030234&quot;</td><td>&quot;molecular_func…</td></tr><tr><td>&quot;GO:0004518&quot;</td><td>&quot;molecular_func…</td></tr></tbody></table></div>"
      ],
      "text/plain": [
       "shape: (97, 2)\n",
       "┌─────────────────────────┬────────────────────┐\n",
       "│ GOSlim GOA Accession(s) ┆ GOSlim_domain      │\n",
       "│ ---                     ┆ ---                │\n",
       "│ str                     ┆ str                │\n",
       "╞═════════════════════════╪════════════════════╡\n",
       "│ GO:0008135              ┆ molecular_function │\n",
       "│ GO:0000003              ┆ biological_process │\n",
       "│ GO:0003700              ┆ molecular_function │\n",
       "│ GO:0005575              ┆ cellular_component │\n",
       "│ …                       ┆ …                  │\n",
       "│ GO:0003682              ┆ molecular_function │\n",
       "│ GO:0140110              ┆ molecular_function │\n",
       "│ GO:0030234              ┆ molecular_function │\n",
       "│ GO:0004518              ┆ molecular_function │\n",
       "└─────────────────────────┴────────────────────┘"
      ]
     },
     "metadata": {},
     "output_type": "display_data"
    }
   ],
   "source": [
    "rice_goslim_df = unique_goslim_terms_rice.with_columns(\n",
    "    unique_goslim_terms_rice[\"GOSlim GOA Accession(s)\"].map_elements(get_domain, return_dtype=str).alias(\"GOSlim_domain\")\n",
    ")\n",
    "time.sleep(10)\n",
    "\n",
    "display(rice_goslim_df)"
   ]
  },
  {
   "cell_type": "code",
   "execution_count": 17,
   "metadata": {},
   "outputs": [
    {
     "data": {
      "text/html": [
       "<div><style>\n",
       ".dataframe > thead > tr,\n",
       ".dataframe > tbody > tr {\n",
       "  text-align: right;\n",
       "  white-space: pre-wrap;\n",
       "}\n",
       "</style>\n",
       "<small>shape: (219_499, 7)</small><table border=\"1\" class=\"dataframe\"><thead><tr><th>Gene stable ID</th><th>Chromosome/scaffold name</th><th>start1 (bp)</th><th>end1 (bp)</th><th>GOSlim GOA Accession(s)</th><th>GOSlim GOA Description</th><th>GOSlim_domain</th></tr><tr><td>str</td><td>str</td><td>str</td><td>str</td><td>str</td><td>str</td><td>str</td></tr></thead><tbody><tr><td>&quot;Os01g0100100&quot;</td><td>&quot;1&quot;</td><td>&quot;2983&quot;</td><td>&quot;10815&quot;</td><td>&quot;GO:0006810&quot;</td><td>&quot;transport&quot;</td><td>&quot;biological_pro…</td></tr><tr><td>&quot;Os01g0100100&quot;</td><td>&quot;1&quot;</td><td>&quot;2983&quot;</td><td>&quot;10815&quot;</td><td>&quot;GO:0008150&quot;</td><td>&quot;biological_pro…</td><td>&quot;biological_pro…</td></tr><tr><td>&quot;Os01g0100100&quot;</td><td>&quot;1&quot;</td><td>&quot;2983&quot;</td><td>&quot;10815&quot;</td><td>&quot;GO:0009987&quot;</td><td>&quot;cellular proce…</td><td>&quot;biological_pro…</td></tr><tr><td>&quot;Os01g0100100&quot;</td><td>&quot;1&quot;</td><td>&quot;2983&quot;</td><td>&quot;10815&quot;</td><td>&quot;GO:0003674&quot;</td><td>&quot;molecular_func…</td><td>&quot;molecular_func…</td></tr><tr><td>&quot;Os01g0100100&quot;</td><td>&quot;1&quot;</td><td>&quot;2983&quot;</td><td>&quot;10815&quot;</td><td>&quot;GO:0030234&quot;</td><td>&quot;enzyme regulat…</td><td>&quot;molecular_func…</td></tr><tr><td>&quot;Os01g0100100&quot;</td><td>&quot;1&quot;</td><td>&quot;2983&quot;</td><td>&quot;10815&quot;</td><td>&quot;GO:0065009&quot;</td><td>&quot;regulation of …</td><td>&quot;biological_pro…</td></tr><tr><td>&quot;Os01g0100300&quot;</td><td>&quot;1&quot;</td><td>&quot;11372&quot;</td><td>&quot;12284&quot;</td><td>&quot;GO:0003674&quot;</td><td>&quot;molecular_func…</td><td>&quot;molecular_func…</td></tr><tr><td>&quot;Os01g0100300&quot;</td><td>&quot;1&quot;</td><td>&quot;11372&quot;</td><td>&quot;12284&quot;</td><td>&quot;GO:0003824&quot;</td><td>&quot;catalytic acti…</td><td>&quot;molecular_func…</td></tr><tr><td>&quot;Os01g0100300&quot;</td><td>&quot;1&quot;</td><td>&quot;11372&quot;</td><td>&quot;12284&quot;</td><td>&quot;GO:0005488&quot;</td><td>&quot;binding&quot;</td><td>&quot;molecular_func…</td></tr><tr><td>&quot;Os01g0100400&quot;</td><td>&quot;1&quot;</td><td>&quot;12721&quot;</td><td>&quot;15685&quot;</td><td>&quot;GO:0003674&quot;</td><td>&quot;molecular_func…</td><td>&quot;molecular_func…</td></tr><tr><td>&quot;Os01g0100400&quot;</td><td>&quot;1&quot;</td><td>&quot;12721&quot;</td><td>&quot;15685&quot;</td><td>&quot;GO:0005488&quot;</td><td>&quot;binding&quot;</td><td>&quot;molecular_func…</td></tr><tr><td>&quot;Os01g0100400&quot;</td><td>&quot;1&quot;</td><td>&quot;12721&quot;</td><td>&quot;15685&quot;</td><td>&quot;GO:0005575&quot;</td><td>&quot;cellular_compo…</td><td>&quot;cellular_compo…</td></tr><tr><td>&hellip;</td><td>&hellip;</td><td>&hellip;</td><td>&hellip;</td><td>&hellip;</td><td>&hellip;</td><td>&hellip;</td></tr><tr><td>&quot;gene-rps19&quot;</td><td>&quot;Pt&quot;</td><td>&quot;134200&quot;</td><td>&quot;134481&quot;</td><td>&quot;GO:0008152&quot;</td><td>&quot;metabolic proc…</td><td>&quot;biological_pro…</td></tr><tr><td>&quot;gene-rps19&quot;</td><td>&quot;Pt&quot;</td><td>&quot;134200&quot;</td><td>&quot;134481&quot;</td><td>&quot;GO:0009058&quot;</td><td>&quot;biosynthetic p…</td><td>&quot;biological_pro…</td></tr><tr><td>&quot;gene-rps19&quot;</td><td>&quot;Pt&quot;</td><td>&quot;134200&quot;</td><td>&quot;134481&quot;</td><td>&quot;GO:0019538&quot;</td><td>&quot;protein metabo…</td><td>&quot;biological_pro…</td></tr><tr><td>&quot;gene-rps19&quot;</td><td>&quot;Pt&quot;</td><td>&quot;134200&quot;</td><td>&quot;134481&quot;</td><td>&quot;GO:0006412&quot;</td><td>&quot;translation&quot;</td><td>&quot;biological_pro…</td></tr><tr><td>&quot;gene-rps19&quot;</td><td>&quot;Pt&quot;</td><td>&quot;134200&quot;</td><td>&quot;134481&quot;</td><td>&quot;GO:0005575&quot;</td><td>&quot;cellular_compo…</td><td>&quot;cellular_compo…</td></tr><tr><td>&quot;gene-rps19&quot;</td><td>&quot;Pt&quot;</td><td>&quot;134200&quot;</td><td>&quot;134481&quot;</td><td>&quot;GO:0005622&quot;</td><td>&quot;intracellular …</td><td>&quot;cellular_compo…</td></tr><tr><td>&quot;gene-rps19&quot;</td><td>&quot;Pt&quot;</td><td>&quot;134200&quot;</td><td>&quot;134481&quot;</td><td>&quot;GO:0005840&quot;</td><td>&quot;ribosome&quot;</td><td>&quot;cellular_compo…</td></tr><tr><td>&quot;gene-rps19&quot;</td><td>&quot;Pt&quot;</td><td>&quot;134200&quot;</td><td>&quot;134481&quot;</td><td>&quot;GO:0003674&quot;</td><td>&quot;molecular_func…</td><td>&quot;molecular_func…</td></tr><tr><td>&quot;gene-rps19&quot;</td><td>&quot;Pt&quot;</td><td>&quot;134200&quot;</td><td>&quot;134481&quot;</td><td>&quot;GO:0005198&quot;</td><td>&quot;structural mol…</td><td>&quot;molecular_func…</td></tr><tr><td>&quot;gene-rps19&quot;</td><td>&quot;Pt&quot;</td><td>&quot;134200&quot;</td><td>&quot;134481&quot;</td><td>&quot;GO:0005488&quot;</td><td>&quot;binding&quot;</td><td>&quot;molecular_func…</td></tr><tr><td>&quot;gene-rps19&quot;</td><td>&quot;Pt&quot;</td><td>&quot;134200&quot;</td><td>&quot;134481&quot;</td><td>&quot;GO:0003723&quot;</td><td>&quot;RNA binding&quot;</td><td>&quot;molecular_func…</td></tr><tr><td>&quot;gene-rps19&quot;</td><td>&quot;Pt&quot;</td><td>&quot;134200&quot;</td><td>&quot;134481&quot;</td><td>&quot;GO:0003676&quot;</td><td>&quot;nucleic acid b…</td><td>&quot;molecular_func…</td></tr></tbody></table></div>"
      ],
      "text/plain": [
       "shape: (219_499, 7)\n",
       "┌──────────────┬──────────────┬─────────────┬───────────┬──────────────┬─────────────┬─────────────┐\n",
       "│ Gene stable  ┆ Chromosome/s ┆ start1 (bp) ┆ end1 (bp) ┆ GOSlim GOA   ┆ GOSlim GOA  ┆ GOSlim_doma │\n",
       "│ ID           ┆ caffold name ┆ ---         ┆ ---       ┆ Accession(s) ┆ Description ┆ in          │\n",
       "│ ---          ┆ ---          ┆ str         ┆ str       ┆ ---          ┆ ---         ┆ ---         │\n",
       "│ str          ┆ str          ┆             ┆           ┆ str          ┆ str         ┆ str         │\n",
       "╞══════════════╪══════════════╪═════════════╪═══════════╪══════════════╪═════════════╪═════════════╡\n",
       "│ Os01g0100100 ┆ 1            ┆ 2983        ┆ 10815     ┆ GO:0006810   ┆ transport   ┆ biological_ │\n",
       "│              ┆              ┆             ┆           ┆              ┆             ┆ process     │\n",
       "│ Os01g0100100 ┆ 1            ┆ 2983        ┆ 10815     ┆ GO:0008150   ┆ biological_ ┆ biological_ │\n",
       "│              ┆              ┆             ┆           ┆              ┆ process     ┆ process     │\n",
       "│ Os01g0100100 ┆ 1            ┆ 2983        ┆ 10815     ┆ GO:0009987   ┆ cellular    ┆ biological_ │\n",
       "│              ┆              ┆             ┆           ┆              ┆ process     ┆ process     │\n",
       "│ Os01g0100100 ┆ 1            ┆ 2983        ┆ 10815     ┆ GO:0003674   ┆ molecular_f ┆ molecular_f │\n",
       "│              ┆              ┆             ┆           ┆              ┆ unction     ┆ unction     │\n",
       "│ …            ┆ …            ┆ …           ┆ …         ┆ …            ┆ …           ┆ …           │\n",
       "│ gene-rps19   ┆ Pt           ┆ 134200      ┆ 134481    ┆ GO:0005198   ┆ structural  ┆ molecular_f │\n",
       "│              ┆              ┆             ┆           ┆              ┆ molecule    ┆ unction     │\n",
       "│              ┆              ┆             ┆           ┆              ┆ activity    ┆             │\n",
       "│ gene-rps19   ┆ Pt           ┆ 134200      ┆ 134481    ┆ GO:0005488   ┆ binding     ┆ molecular_f │\n",
       "│              ┆              ┆             ┆           ┆              ┆             ┆ unction     │\n",
       "│ gene-rps19   ┆ Pt           ┆ 134200      ┆ 134481    ┆ GO:0003723   ┆ RNA binding ┆ molecular_f │\n",
       "│              ┆              ┆             ┆           ┆              ┆             ┆ unction     │\n",
       "│ gene-rps19   ┆ Pt           ┆ 134200      ┆ 134481    ┆ GO:0003676   ┆ nucleic     ┆ molecular_f │\n",
       "│              ┆              ┆             ┆           ┆              ┆ acid        ┆ unction     │\n",
       "│              ┆              ┆             ┆           ┆              ┆ binding     ┆             │\n",
       "└──────────────┴──────────────┴─────────────┴───────────┴──────────────┴─────────────┴─────────────┘"
      ]
     },
     "metadata": {},
     "output_type": "display_data"
    }
   ],
   "source": [
    "rice_merged_goslim_domain = ensembl_goslim_rice_unique.join(\n",
    "    rice_goslim_df, \n",
    "    on=\"GOSlim GOA Accession(s)\", \n",
    "    how=\"left\"\n",
    ")\n",
    "\n",
    "display(rice_merged_goslim_domain)"
   ]
  },
  {
   "cell_type": "markdown",
   "metadata": {},
   "source": [
    "## Save the results"
   ]
  },
  {
   "cell_type": "code",
   "execution_count": 19,
   "metadata": {},
   "outputs": [],
   "source": [
    "mouse_merged_goslim_domain.write_csv(\"../data/biomart_goslim/biomart_mouse_goslim_R110_domain.tsv\", separator=\"\\t\")\n",
    "human_merged_goslim_domain.write_csv(\"../data/biomart_goslim/biomart_human_goslim_R110_domain.tsv\", separator=\"\\t\")\n",
    "rice_merged_goslim_domain.write_csv(\"../data/biomart_goslim/biomart_rice_goslim_R56_domain.tsv\", separator=\"\\t\")"
   ]
  }
 ],
 "metadata": {
  "kernelspec": {
   "display_name": "Python 3",
   "language": "python",
   "name": "python3"
  },
  "language_info": {
   "codemirror_mode": {
    "name": "ipython",
    "version": 3
   },
   "file_extension": ".py",
   "mimetype": "text/x-python",
   "name": "python",
   "nbconvert_exporter": "python",
   "pygments_lexer": "ipython3",
   "version": "3.9.17"
  }
 },
 "nbformat": 4,
 "nbformat_minor": 2
}
