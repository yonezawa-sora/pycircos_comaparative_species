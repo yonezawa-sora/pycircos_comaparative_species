{
 "cells": [
  {
   "cell_type": "markdown",
   "metadata": {},
   "source": [
    "## GOSlim combined all genes based on the GOslim terms (version 0.5)"
   ]
  },
  {
   "cell_type": "code",
   "execution_count": 1,
   "metadata": {},
   "outputs": [],
   "source": [
    "#import pandas as pd\n",
    "#import dask.dataframe as dd\n",
    "import polars as pl\n",
    "\n",
    "organism1_vs_organism2 = 'HR' # human vs rice"
   ]
  },
  {
   "cell_type": "code",
   "execution_count": 2,
   "metadata": {},
   "outputs": [
    {
     "data": {
      "text/html": [
       "<div><style>\n",
       ".dataframe > thead > tr,\n",
       ".dataframe > tbody > tr {\n",
       "  text-align: right;\n",
       "  white-space: pre-wrap;\n",
       "}\n",
       "</style>\n",
       "<small>shape: (193_928, 4)</small><table border=\"1\" class=\"dataframe\"><thead><tr><th>Gene stable ID</th><th>GOSlim GOA Accession(s)</th><th>GOSlim GOA Description</th><th>GOSlim_domain</th></tr><tr><td>str</td><td>str</td><td>str</td><td>str</td></tr></thead><tbody><tr><td>&quot;ENSG0000024348…</td><td>&quot;GO:0031047&quot;</td><td>&quot;gene silencing…</td><td>&quot;biological_pro…</td></tr><tr><td>&quot;ENSG0000028433…</td><td>&quot;GO:0031047&quot;</td><td>&quot;gene silencing…</td><td>&quot;biological_pro…</td></tr><tr><td>&quot;ENSG0000018609…</td><td>&quot;GO:0023052&quot;</td><td>&quot;signaling&quot;</td><td>&quot;biological_pro…</td></tr><tr><td>&quot;ENSG0000018609…</td><td>&quot;GO:0060089&quot;</td><td>&quot;molecular tran…</td><td>&quot;molecular_func…</td></tr><tr><td>&quot;ENSG0000018609…</td><td>&quot;GO:0005886&quot;</td><td>&quot;plasma membran…</td><td>&quot;cellular_compo…</td></tr><tr><td>&quot;ENSG0000018609…</td><td>&quot;GO:0050877&quot;</td><td>&quot;nervous system…</td><td>&quot;biological_pro…</td></tr><tr><td>&quot;ENSG0000022262…</td><td>&quot;GO:0003723&quot;</td><td>&quot;RNA binding&quot;</td><td>&quot;molecular_func…</td></tr><tr><td>&quot;ENSG0000022262…</td><td>&quot;GO:0065003&quot;</td><td>&quot;protein-contai…</td><td>&quot;biological_pro…</td></tr><tr><td>&quot;ENSG0000022262…</td><td>&quot;GO:0016071&quot;</td><td>&quot;mRNA metabolic…</td><td>&quot;biological_pro…</td></tr><tr><td>&quot;ENSG0000022262…</td><td>&quot;GO:0043226&quot;</td><td>&quot;organelle&quot;</td><td>&quot;cellular_compo…</td></tr><tr><td>&quot;ENSG0000022262…</td><td>&quot;GO:0005634&quot;</td><td>&quot;nucleus&quot;</td><td>&quot;cellular_compo…</td></tr><tr><td>&quot;ENSG0000028473…</td><td>&quot;GO:0023052&quot;</td><td>&quot;signaling&quot;</td><td>&quot;biological_pro…</td></tr><tr><td>&hellip;</td><td>&hellip;</td><td>&hellip;</td><td>&hellip;</td></tr><tr><td>&quot;ENSG0000025294…</td><td>&quot;GO:0016071&quot;</td><td>&quot;mRNA metabolic…</td><td>&quot;biological_pro…</td></tr><tr><td>&quot;ENSG0000025294…</td><td>&quot;GO:0043226&quot;</td><td>&quot;organelle&quot;</td><td>&quot;cellular_compo…</td></tr><tr><td>&quot;ENSG0000025294…</td><td>&quot;GO:0005634&quot;</td><td>&quot;nucleus&quot;</td><td>&quot;cellular_compo…</td></tr><tr><td>&quot;ENSG0000029236…</td><td>&quot;GO:0016192&quot;</td><td>&quot;vesicle-mediat…</td><td>&quot;biological_pro…</td></tr><tr><td>&quot;ENSG0000029236…</td><td>&quot;GO:0043226&quot;</td><td>&quot;organelle&quot;</td><td>&quot;cellular_compo…</td></tr><tr><td>&quot;ENSG0000029236…</td><td>&quot;GO:0005794&quot;</td><td>&quot;Golgi apparatu…</td><td>&quot;cellular_compo…</td></tr><tr><td>&quot;ENSG0000029237…</td><td>&quot;GO:0060089&quot;</td><td>&quot;molecular tran…</td><td>&quot;molecular_func…</td></tr><tr><td>&quot;ENSG0000029237…</td><td>&quot;GO:0007010&quot;</td><td>&quot;cytoskeleton o…</td><td>&quot;biological_pro…</td></tr><tr><td>&quot;ENSG0000029237…</td><td>&quot;GO:0008092&quot;</td><td>&quot;cytoskeletal p…</td><td>&quot;molecular_func…</td></tr><tr><td>&quot;ENSG0000029237…</td><td>&quot;GO:0031410&quot;</td><td>&quot;cytoplasmic ve…</td><td>&quot;cellular_compo…</td></tr><tr><td>&quot;ENSG0000029237…</td><td>&quot;GO:0043226&quot;</td><td>&quot;organelle&quot;</td><td>&quot;cellular_compo…</td></tr><tr><td>&quot;ENSG0000029237…</td><td>&quot;GO:0005768&quot;</td><td>&quot;endosome&quot;</td><td>&quot;cellular_compo…</td></tr></tbody></table></div>"
      ],
      "text/plain": [
       "shape: (193_928, 4)\n",
       "┌─────────────────┬─────────────────────────┬───────────────────────────────┬────────────────────┐\n",
       "│ Gene stable ID  ┆ GOSlim GOA Accession(s) ┆ GOSlim GOA Description        ┆ GOSlim_domain      │\n",
       "│ ---             ┆ ---                     ┆ ---                           ┆ ---                │\n",
       "│ str             ┆ str                     ┆ str                           ┆ str                │\n",
       "╞═════════════════╪═════════════════════════╪═══════════════════════════════╪════════════════════╡\n",
       "│ ENSG00000243485 ┆ GO:0031047              ┆ gene silencing by RNA         ┆ biological_process │\n",
       "│ ENSG00000284332 ┆ GO:0031047              ┆ gene silencing by RNA         ┆ biological_process │\n",
       "│ ENSG00000186092 ┆ GO:0023052              ┆ signaling                     ┆ biological_process │\n",
       "│ ENSG00000186092 ┆ GO:0060089              ┆ molecular transducer activity ┆ molecular_function │\n",
       "│ …               ┆ …                       ┆ …                             ┆ …                  │\n",
       "│ ENSG00000292372 ┆ GO:0008092              ┆ cytoskeletal protein binding  ┆ molecular_function │\n",
       "│ ENSG00000292372 ┆ GO:0031410              ┆ cytoplasmic vesicle           ┆ cellular_component │\n",
       "│ ENSG00000292372 ┆ GO:0043226              ┆ organelle                     ┆ cellular_component │\n",
       "│ ENSG00000292372 ┆ GO:0005768              ┆ endosome                      ┆ cellular_component │\n",
       "└─────────────────┴─────────────────────────┴───────────────────────────────┴────────────────────┘"
      ]
     },
     "metadata": {},
     "output_type": "display_data"
    },
    {
     "data": {
      "text/html": [
       "<div><style>\n",
       ".dataframe > thead > tr,\n",
       ".dataframe > tbody > tr {\n",
       "  text-align: right;\n",
       "  white-space: pre-wrap;\n",
       "}\n",
       "</style>\n",
       "<small>shape: (219_499, 4)</small><table border=\"1\" class=\"dataframe\"><thead><tr><th>Gene stable ID</th><th>GOSlim GOA Accession(s)</th><th>GOSlim GOA Description</th><th>GOSlim_domain</th></tr><tr><td>str</td><td>str</td><td>str</td><td>str</td></tr></thead><tbody><tr><td>&quot;Os01g0100100&quot;</td><td>&quot;GO:0006810&quot;</td><td>&quot;transport&quot;</td><td>&quot;biological_pro…</td></tr><tr><td>&quot;Os01g0100100&quot;</td><td>&quot;GO:0008150&quot;</td><td>&quot;biological_pro…</td><td>&quot;biological_pro…</td></tr><tr><td>&quot;Os01g0100100&quot;</td><td>&quot;GO:0009987&quot;</td><td>&quot;cellular proce…</td><td>&quot;biological_pro…</td></tr><tr><td>&quot;Os01g0100100&quot;</td><td>&quot;GO:0003674&quot;</td><td>&quot;molecular_func…</td><td>&quot;molecular_func…</td></tr><tr><td>&quot;Os01g0100100&quot;</td><td>&quot;GO:0030234&quot;</td><td>&quot;enzyme regulat…</td><td>&quot;molecular_func…</td></tr><tr><td>&quot;Os01g0100100&quot;</td><td>&quot;GO:0065009&quot;</td><td>&quot;regulation of …</td><td>&quot;biological_pro…</td></tr><tr><td>&quot;Os01g0100300&quot;</td><td>&quot;GO:0003674&quot;</td><td>&quot;molecular_func…</td><td>&quot;molecular_func…</td></tr><tr><td>&quot;Os01g0100300&quot;</td><td>&quot;GO:0003824&quot;</td><td>&quot;catalytic acti…</td><td>&quot;molecular_func…</td></tr><tr><td>&quot;Os01g0100300&quot;</td><td>&quot;GO:0005488&quot;</td><td>&quot;binding&quot;</td><td>&quot;molecular_func…</td></tr><tr><td>&quot;Os01g0100400&quot;</td><td>&quot;GO:0003674&quot;</td><td>&quot;molecular_func…</td><td>&quot;molecular_func…</td></tr><tr><td>&quot;Os01g0100400&quot;</td><td>&quot;GO:0005488&quot;</td><td>&quot;binding&quot;</td><td>&quot;molecular_func…</td></tr><tr><td>&quot;Os01g0100400&quot;</td><td>&quot;GO:0005575&quot;</td><td>&quot;cellular_compo…</td><td>&quot;cellular_compo…</td></tr><tr><td>&hellip;</td><td>&hellip;</td><td>&hellip;</td><td>&hellip;</td></tr><tr><td>&quot;gene-rps19&quot;</td><td>&quot;GO:0008152&quot;</td><td>&quot;metabolic proc…</td><td>&quot;biological_pro…</td></tr><tr><td>&quot;gene-rps19&quot;</td><td>&quot;GO:0009058&quot;</td><td>&quot;biosynthetic p…</td><td>&quot;biological_pro…</td></tr><tr><td>&quot;gene-rps19&quot;</td><td>&quot;GO:0019538&quot;</td><td>&quot;protein metabo…</td><td>&quot;biological_pro…</td></tr><tr><td>&quot;gene-rps19&quot;</td><td>&quot;GO:0006412&quot;</td><td>&quot;translation&quot;</td><td>&quot;biological_pro…</td></tr><tr><td>&quot;gene-rps19&quot;</td><td>&quot;GO:0005575&quot;</td><td>&quot;cellular_compo…</td><td>&quot;cellular_compo…</td></tr><tr><td>&quot;gene-rps19&quot;</td><td>&quot;GO:0005622&quot;</td><td>&quot;intracellular …</td><td>&quot;cellular_compo…</td></tr><tr><td>&quot;gene-rps19&quot;</td><td>&quot;GO:0005840&quot;</td><td>&quot;ribosome&quot;</td><td>&quot;cellular_compo…</td></tr><tr><td>&quot;gene-rps19&quot;</td><td>&quot;GO:0003674&quot;</td><td>&quot;molecular_func…</td><td>&quot;molecular_func…</td></tr><tr><td>&quot;gene-rps19&quot;</td><td>&quot;GO:0005198&quot;</td><td>&quot;structural mol…</td><td>&quot;molecular_func…</td></tr><tr><td>&quot;gene-rps19&quot;</td><td>&quot;GO:0005488&quot;</td><td>&quot;binding&quot;</td><td>&quot;molecular_func…</td></tr><tr><td>&quot;gene-rps19&quot;</td><td>&quot;GO:0003723&quot;</td><td>&quot;RNA binding&quot;</td><td>&quot;molecular_func…</td></tr><tr><td>&quot;gene-rps19&quot;</td><td>&quot;GO:0003676&quot;</td><td>&quot;nucleic acid b…</td><td>&quot;molecular_func…</td></tr></tbody></table></div>"
      ],
      "text/plain": [
       "shape: (219_499, 4)\n",
       "┌────────────────┬─────────────────────────┬──────────────────────────────┬────────────────────┐\n",
       "│ Gene stable ID ┆ GOSlim GOA Accession(s) ┆ GOSlim GOA Description       ┆ GOSlim_domain      │\n",
       "│ ---            ┆ ---                     ┆ ---                          ┆ ---                │\n",
       "│ str            ┆ str                     ┆ str                          ┆ str                │\n",
       "╞════════════════╪═════════════════════════╪══════════════════════════════╪════════════════════╡\n",
       "│ Os01g0100100   ┆ GO:0006810              ┆ transport                    ┆ biological_process │\n",
       "│ Os01g0100100   ┆ GO:0008150              ┆ biological_process           ┆ biological_process │\n",
       "│ Os01g0100100   ┆ GO:0009987              ┆ cellular process             ┆ biological_process │\n",
       "│ Os01g0100100   ┆ GO:0003674              ┆ molecular_function           ┆ molecular_function │\n",
       "│ …              ┆ …                       ┆ …                            ┆ …                  │\n",
       "│ gene-rps19     ┆ GO:0005198              ┆ structural molecule activity ┆ molecular_function │\n",
       "│ gene-rps19     ┆ GO:0005488              ┆ binding                      ┆ molecular_function │\n",
       "│ gene-rps19     ┆ GO:0003723              ┆ RNA binding                  ┆ molecular_function │\n",
       "│ gene-rps19     ┆ GO:0003676              ┆ nucleic acid binding         ┆ molecular_function │\n",
       "└────────────────┴─────────────────────────┴──────────────────────────────┴────────────────────┘"
      ]
     },
     "metadata": {},
     "output_type": "display_data"
    }
   ],
   "source": [
    "goslim_all_human = pl.read_csv(\"../data/biomart_goslim/biomart_human_goslim_R110_domain.tsv\", \n",
    "                               separator=\"\\t\",\n",
    "                               infer_schema_length=0,\n",
    "                               low_memory=False)\n",
    "goslim_all_rice = pl.read_csv(\"../data/biomart_goslim/biomart_rice_goslim_R56_domain.tsv\", \n",
    "                              separator=\"\\t\",\n",
    "                              infer_schema_length=0,\n",
    "                              low_memory=False)\n",
    "columns_of_interest = [\"Gene stable ID\", \"GOSlim GOA Accession(s)\", \"GOSlim GOA Description\", \"GOSlim_domain\"]\n",
    "\n",
    "goslim_all_human_filtered = goslim_all_human[columns_of_interest]\n",
    "goslim_all_rice_filtered = goslim_all_rice[columns_of_interest]\n",
    "\n",
    "display(goslim_all_human_filtered)\n",
    "display(goslim_all_rice_filtered)"
   ]
  },
  {
   "cell_type": "markdown",
   "metadata": {},
   "source": [
    "## Merge dataframe based on common column"
   ]
  },
  {
   "cell_type": "code",
   "execution_count": 3,
   "metadata": {},
   "outputs": [
    {
     "data": {
      "text/html": [
       "<div><style>\n",
       ".dataframe > thead > tr,\n",
       ".dataframe > tbody > tr {\n",
       "  text-align: right;\n",
       "  white-space: pre-wrap;\n",
       "}\n",
       "</style>\n",
       "<small>shape: (205_962_891, 5)</small><table border=\"1\" class=\"dataframe\"><thead><tr><th>GOSlim GOA Accession(s)</th><th>GOSlim GOA Description</th><th>GOSlim_domain</th><th>Gene stable ID_human</th><th>Gene stable ID_rice</th></tr><tr><td>str</td><td>str</td><td>str</td><td>str</td><td>str</td></tr></thead><tbody><tr><td>&quot;GO:0003824&quot;</td><td>&quot;catalytic acti…</td><td>&quot;molecular_func…</td><td>&quot;ENSG0000023733…</td><td>&quot;Os01g0100300&quot;</td></tr><tr><td>&quot;GO:0003824&quot;</td><td>&quot;catalytic acti…</td><td>&quot;molecular_func…</td><td>&quot;ENSG0000016257…</td><td>&quot;Os01g0100300&quot;</td></tr><tr><td>&quot;GO:0003824&quot;</td><td>&quot;catalytic acti…</td><td>&quot;molecular_func…</td><td>&quot;ENSG0000017602…</td><td>&quot;Os01g0100300&quot;</td></tr><tr><td>&quot;GO:0003824&quot;</td><td>&quot;catalytic acti…</td><td>&quot;molecular_func…</td><td>&quot;ENSG0000016008…</td><td>&quot;Os01g0100300&quot;</td></tr><tr><td>&quot;GO:0003824&quot;</td><td>&quot;catalytic acti…</td><td>&quot;molecular_func…</td><td>&quot;ENSG0000016997…</td><td>&quot;Os01g0100300&quot;</td></tr><tr><td>&quot;GO:0003824&quot;</td><td>&quot;catalytic acti…</td><td>&quot;molecular_func…</td><td>&quot;ENSG0000012705…</td><td>&quot;Os01g0100300&quot;</td></tr><tr><td>&quot;GO:0003824&quot;</td><td>&quot;catalytic acti…</td><td>&quot;molecular_func…</td><td>&quot;ENSG0000021591…</td><td>&quot;Os01g0100300&quot;</td></tr><tr><td>&quot;GO:0003824&quot;</td><td>&quot;catalytic acti…</td><td>&quot;molecular_func…</td><td>&quot;ENSG0000016007…</td><td>&quot;Os01g0100300&quot;</td></tr><tr><td>&quot;GO:0003824&quot;</td><td>&quot;catalytic acti…</td><td>&quot;molecular_func…</td><td>&quot;ENSG0000019778…</td><td>&quot;Os01g0100300&quot;</td></tr><tr><td>&quot;GO:0003824&quot;</td><td>&quot;catalytic acti…</td><td>&quot;molecular_func…</td><td>&quot;ENSG0000016007…</td><td>&quot;Os01g0100300&quot;</td></tr><tr><td>&quot;GO:0003824&quot;</td><td>&quot;catalytic acti…</td><td>&quot;molecular_func…</td><td>&quot;ENSG0000019753…</td><td>&quot;Os01g0100300&quot;</td></tr><tr><td>&quot;GO:0003824&quot;</td><td>&quot;catalytic acti…</td><td>&quot;molecular_func…</td><td>&quot;ENSG0000018940…</td><td>&quot;Os01g0100300&quot;</td></tr><tr><td>&hellip;</td><td>&hellip;</td><td>&hellip;</td><td>&hellip;</td><td>&hellip;</td></tr><tr><td>&quot;GO:0003723&quot;</td><td>&quot;RNA binding&quot;</td><td>&quot;molecular_func…</td><td>&quot;ENSG0000024238…</td><td>&quot;gene-rps19&quot;</td></tr><tr><td>&quot;GO:0003723&quot;</td><td>&quot;RNA binding&quot;</td><td>&quot;molecular_func…</td><td>&quot;ENSG0000016980…</td><td>&quot;gene-rps19&quot;</td></tr><tr><td>&quot;GO:0003723&quot;</td><td>&quot;RNA binding&quot;</td><td>&quot;molecular_func…</td><td>&quot;ENSG0000022694…</td><td>&quot;gene-rps19&quot;</td></tr><tr><td>&quot;GO:0003723&quot;</td><td>&quot;RNA binding&quot;</td><td>&quot;molecular_func…</td><td>&quot;ENSG0000018812…</td><td>&quot;gene-rps19&quot;</td></tr><tr><td>&quot;GO:0003723&quot;</td><td>&quot;RNA binding&quot;</td><td>&quot;molecular_func…</td><td>&quot;ENSG0000020594…</td><td>&quot;gene-rps19&quot;</td></tr><tr><td>&quot;GO:0003723&quot;</td><td>&quot;RNA binding&quot;</td><td>&quot;molecular_func…</td><td>&quot;ENSG0000025268…</td><td>&quot;gene-rps19&quot;</td></tr><tr><td>&quot;GO:0003723&quot;</td><td>&quot;RNA binding&quot;</td><td>&quot;molecular_func…</td><td>&quot;ENSG0000025191…</td><td>&quot;gene-rps19&quot;</td></tr><tr><td>&quot;GO:0003723&quot;</td><td>&quot;RNA binding&quot;</td><td>&quot;molecular_func…</td><td>&quot;ENSG0000018719…</td><td>&quot;gene-rps19&quot;</td></tr><tr><td>&quot;GO:0003723&quot;</td><td>&quot;RNA binding&quot;</td><td>&quot;molecular_func…</td><td>&quot;ENSG0000020591…</td><td>&quot;gene-rps19&quot;</td></tr><tr><td>&quot;GO:0003723&quot;</td><td>&quot;RNA binding&quot;</td><td>&quot;molecular_func…</td><td>&quot;ENSG0000025242…</td><td>&quot;gene-rps19&quot;</td></tr><tr><td>&quot;GO:0003723&quot;</td><td>&quot;RNA binding&quot;</td><td>&quot;molecular_func…</td><td>&quot;ENSG0000025262…</td><td>&quot;gene-rps19&quot;</td></tr><tr><td>&quot;GO:0003723&quot;</td><td>&quot;RNA binding&quot;</td><td>&quot;molecular_func…</td><td>&quot;ENSG0000025294…</td><td>&quot;gene-rps19&quot;</td></tr></tbody></table></div>"
      ],
      "text/plain": [
       "shape: (205_962_891, 5)\n",
       "┌──────────────┬─────────────────────┬─────────────────────┬─────────────────┬─────────────────────┐\n",
       "│ GOSlim GOA   ┆ GOSlim GOA          ┆ GOSlim_domain       ┆ Gene stable     ┆ Gene stable ID_rice │\n",
       "│ Accession(s) ┆ Description         ┆ ---                 ┆ ID_human        ┆ ---                 │\n",
       "│ ---          ┆ ---                 ┆ str                 ┆ ---             ┆ str                 │\n",
       "│ str          ┆ str                 ┆                     ┆ str             ┆                     │\n",
       "╞══════════════╪═════════════════════╪═════════════════════╪═════════════════╪═════════════════════╡\n",
       "│ GO:0003824   ┆ catalytic activity  ┆ molecular_function  ┆ ENSG00000237330 ┆ Os01g0100300        │\n",
       "│ GO:0003824   ┆ catalytic activity  ┆ molecular_function  ┆ ENSG00000162571 ┆ Os01g0100300        │\n",
       "│ GO:0003824   ┆ catalytic activity  ┆ molecular_function  ┆ ENSG00000176022 ┆ Os01g0100300        │\n",
       "│ GO:0003824   ┆ catalytic activity  ┆ molecular_function  ┆ ENSG00000160087 ┆ Os01g0100300        │\n",
       "│ …            ┆ …                   ┆ …                   ┆ …               ┆ …                   │\n",
       "│ GO:0003723   ┆ RNA binding         ┆ molecular_function  ┆ ENSG00000205916 ┆ gene-rps19          │\n",
       "│ GO:0003723   ┆ RNA binding         ┆ molecular_function  ┆ ENSG00000252426 ┆ gene-rps19          │\n",
       "│ GO:0003723   ┆ RNA binding         ┆ molecular_function  ┆ ENSG00000252625 ┆ gene-rps19          │\n",
       "│ GO:0003723   ┆ RNA binding         ┆ molecular_function  ┆ ENSG00000252948 ┆ gene-rps19          │\n",
       "└──────────────┴─────────────────────┴─────────────────────┴─────────────────┴─────────────────────┘"
      ]
     },
     "metadata": {},
     "output_type": "display_data"
    }
   ],
   "source": [
    "#merge dataframe based on common column 'GOSlim GOA Accession(s)', 'GOSlim GOA Description', 'GOSlim_domain'\n",
    "merged_df_goslim = goslim_all_human_filtered.join(\n",
    "    goslim_all_rice_filtered,\n",
    "    left_on=['GOSlim GOA Accession(s)', 'GOSlim GOA Description', 'GOSlim_domain'],\n",
    "    right_on=['GOSlim GOA Accession(s)','GOSlim GOA Description', 'GOSlim_domain'],\n",
    "    how='inner',\n",
    "    suffix='_rice'\n",
    ")\n",
    "merged_df_goslim = merged_df_goslim.rename({\"Gene stable ID\" : \"Gene stable ID_human\"})\n",
    "merged_df_goslim = merged_df_goslim.select([\n",
    "    \"GOSlim GOA Accession(s)\",\n",
    "    \"GOSlim GOA Description\",\n",
    "    \"GOSlim_domain\",\n",
    "    \"Gene stable ID_human\",\n",
    "    \"Gene stable ID_rice\"\n",
    "])\n",
    "\n",
    "display(merged_df_goslim)"
   ]
  },
  {
   "cell_type": "markdown",
   "metadata": {},
   "source": [
    "### Count the number of common columns"
   ]
  },
  {
   "cell_type": "code",
   "execution_count": 4,
   "metadata": {},
   "outputs": [
    {
     "data": {
      "text/html": [
       "<div><style>\n",
       ".dataframe > thead > tr,\n",
       ".dataframe > tbody > tr {\n",
       "  text-align: right;\n",
       "  white-space: pre-wrap;\n",
       "}\n",
       "</style>\n",
       "<small>shape: (34, 3)</small><table border=\"1\" class=\"dataframe\"><thead><tr><th>GOSlim GOA Accession(s)</th><th>GOSlim GOA Description</th><th>count</th></tr><tr><td>str</td><td>str</td><td>u32</td></tr></thead><tbody><tr><td>&quot;GO:0003824&quot;</td><td>&quot;catalytic acti…</td><td>62834292</td></tr><tr><td>&quot;GO:0005634&quot;</td><td>&quot;nucleus&quot;</td><td>50586355</td></tr><tr><td>&quot;GO:0005886&quot;</td><td>&quot;plasma membran…</td><td>14121523</td></tr><tr><td>&quot;GO:0036211&quot;</td><td>&quot;protein modifi…</td><td>11265607</td></tr><tr><td>&quot;GO:0016740&quot;</td><td>&quot;transferase ac…</td><td>10856023</td></tr><tr><td>&quot;GO:0016787&quot;</td><td>&quot;hydrolase acti…</td><td>8674587</td></tr><tr><td>&quot;GO:0005829&quot;</td><td>&quot;cytosol&quot;</td><td>7811118</td></tr><tr><td>&quot;GO:0048856&quot;</td><td>&quot;anatomical str…</td><td>7216908</td></tr><tr><td>&quot;GO:0003677&quot;</td><td>&quot;DNA binding&quot;</td><td>5819761</td></tr><tr><td>&quot;GO:0003723&quot;</td><td>&quot;RNA binding&quot;</td><td>4482192</td></tr><tr><td>&quot;GO:0005576&quot;</td><td>&quot;extracellular …</td><td>3845282</td></tr><tr><td>&quot;GO:0140110&quot;</td><td>&quot;transcription …</td><td>2256826</td></tr><tr><td>&hellip;</td><td>&hellip;</td><td>&hellip;</td></tr><tr><td>&quot;GO:0005730&quot;</td><td>&quot;nucleolus&quot;</td><td>566826</td></tr><tr><td>&quot;GO:0005773&quot;</td><td>&quot;vacuole&quot;</td><td>422166</td></tr><tr><td>&quot;GO:0005768&quot;</td><td>&quot;endosome&quot;</td><td>342792</td></tr><tr><td>&quot;GO:0006091&quot;</td><td>&quot;generation of …</td><td>265631</td></tr><tr><td>&quot;GO:0008289&quot;</td><td>&quot;lipid binding&quot;</td><td>257535</td></tr><tr><td>&quot;GO:0005840&quot;</td><td>&quot;ribosome&quot;</td><td>252420</td></tr><tr><td>&quot;GO:0030312&quot;</td><td>&quot;external encap…</td><td>203467</td></tr><tr><td>&quot;GO:0005635&quot;</td><td>&quot;nuclear envelo…</td><td>50592</td></tr><tr><td>&quot;GO:0005764&quot;</td><td>&quot;lysosome&quot;</td><td>45237</td></tr><tr><td>&quot;GO:0045182&quot;</td><td>&quot;translation re…</td><td>30420</td></tr><tr><td>&quot;GO:0005777&quot;</td><td>&quot;peroxisome&quot;</td><td>18172</td></tr><tr><td>&quot;GO:0003774&quot;</td><td>&quot;cytoskeletal m…</td><td>8960</td></tr></tbody></table></div>"
      ],
      "text/plain": [
       "shape: (34, 3)\n",
       "┌─────────────────────────┬────────────────────────────────┬──────────┐\n",
       "│ GOSlim GOA Accession(s) ┆ GOSlim GOA Description         ┆ count    │\n",
       "│ ---                     ┆ ---                            ┆ ---      │\n",
       "│ str                     ┆ str                            ┆ u32      │\n",
       "╞═════════════════════════╪════════════════════════════════╪══════════╡\n",
       "│ GO:0003824              ┆ catalytic activity             ┆ 62834292 │\n",
       "│ GO:0005634              ┆ nucleus                        ┆ 50586355 │\n",
       "│ GO:0005886              ┆ plasma membrane                ┆ 14121523 │\n",
       "│ GO:0036211              ┆ protein modification process   ┆ 11265607 │\n",
       "│ …                       ┆ …                              ┆ …        │\n",
       "│ GO:0005764              ┆ lysosome                       ┆ 45237    │\n",
       "│ GO:0045182              ┆ translation regulator activity ┆ 30420    │\n",
       "│ GO:0005777              ┆ peroxisome                     ┆ 18172    │\n",
       "│ GO:0003774              ┆ cytoskeletal motor activity    ┆ 8960     │\n",
       "└─────────────────────────┴────────────────────────────────┴──────────┘"
      ]
     },
     "metadata": {},
     "output_type": "display_data"
    }
   ],
   "source": [
    "counted_df = merged_df_goslim.group_by([\"GOSlim GOA Accession(s)\", \"GOSlim GOA Description\"]).count()\n",
    "sorted_df = counted_df.sort(\"count\", descending=True)\n",
    "display(sorted_df)"
   ]
  },
  {
   "cell_type": "markdown",
   "metadata": {},
   "source": [
    "### Debugging"
   ]
  },
  {
   "cell_type": "code",
   "execution_count": 5,
   "metadata": {},
   "outputs": [
    {
     "name": "stdout",
     "output_type": "stream",
     "text": [
      "Number of unique accessions in human: 137\n",
      "Number of unique accessions in rice: 97\n",
      "Number of common accessions: 34\n",
      "Number of missing accessions: 0\n",
      "Are the combinations of 'Gene stable ID_rice' and 'Gene stable ID_human' unique?: True\n"
     ]
    }
   ],
   "source": [
    "#create set of unique accessions\n",
    "unique_accessions_h = set(goslim_all_human_filtered['GOSlim GOA Accession(s)'].unique())\n",
    "unique_accessions_r = set(goslim_all_rice_filtered['GOSlim GOA Accession(s)'].unique())\n",
    "\n",
    "#check if there are common accessions between human and rice\n",
    "common_accessions = unique_accessions_r.intersection(unique_accessions_h)\n",
    "unique_accessions_merged = set(merged_df_goslim[\"GOSlim GOA Accession(s)\"].unique())\n",
    "missing_accessions = common_accessions.difference(unique_accessions_merged)\n",
    "\n",
    "#check duplicates\n",
    "duplicates = merged_df_goslim.is_duplicated() #pandas -> 'duplicated' function\n",
    "unique_combinations = not duplicates.any() #check if there are any duplicates(return boolean)\n",
    "\n",
    "#output\n",
    "print(f\"Number of unique accessions in human: {len(unique_accessions_h)}\")\n",
    "print(f\"Number of unique accessions in rice: {len(unique_accessions_r)}\")\n",
    "print(f\"Number of common accessions: {len(common_accessions)}\")\n",
    "\n",
    "if missing_accessions:\n",
    "    print(f\"Number of missing accessions: {len(missing_accessions)}\")\n",
    "    print(f\"Missing accessions: {missing_accessions}\")\n",
    "else:\n",
    "    print(\"Number of missing accessions: 0\")\n",
    "\n",
    "print(f\"Are the combinations of 'Gene stable ID_rice' and 'Gene stable ID_human' unique?: {unique_combinations}\")\n",
    "\n",
    "#write output\n",
    "merged_df_goslim.write_csv(f\"../data/GOSlim_merge_{organism1_vs_organism2}/GOslim_merge_common_goslim_correspondence_all.tsv\", \n",
    "                           separator=\"\\t\")"
   ]
  },
  {
   "cell_type": "markdown",
   "metadata": {},
   "source": [
    "### Extract dataset based on GOslim domain (BP, CC, MF)"
   ]
  },
  {
   "cell_type": "code",
   "execution_count": 11,
   "metadata": {},
   "outputs": [
    {
     "data": {
      "text/html": [
       "<div><style>\n",
       ".dataframe > thead > tr,\n",
       ".dataframe > tbody > tr {\n",
       "  text-align: right;\n",
       "  white-space: pre-wrap;\n",
       "}\n",
       "</style>\n",
       "<small>shape: (85_947_772, 5)</small><table border=\"1\" class=\"dataframe\"><thead><tr><th>GOSlim GOA Accession(s)</th><th>GOSlim GOA Description</th><th>GOSlim_domain</th><th>Gene stable ID_human</th><th>Gene stable ID_rice</th></tr><tr><td>str</td><td>str</td><td>str</td><td>str</td><td>str</td></tr></thead><tbody><tr><td>&quot;GO:0005886&quot;</td><td>&quot;plasma membran…</td><td>&quot;cellular_compo…</td><td>&quot;ENSG0000018609…</td><td>&quot;Os01g0100400&quot;</td></tr><tr><td>&quot;GO:0005886&quot;</td><td>&quot;plasma membran…</td><td>&quot;cellular_compo…</td><td>&quot;ENSG0000028473…</td><td>&quot;Os01g0100400&quot;</td></tr><tr><td>&quot;GO:0005886&quot;</td><td>&quot;plasma membran…</td><td>&quot;cellular_compo…</td><td>&quot;ENSG0000028466…</td><td>&quot;Os01g0100400&quot;</td></tr><tr><td>&quot;GO:0005886&quot;</td><td>&quot;plasma membran…</td><td>&quot;cellular_compo…</td><td>&quot;ENSG0000018758…</td><td>&quot;Os01g0100400&quot;</td></tr><tr><td>&quot;GO:0005886&quot;</td><td>&quot;plasma membran…</td><td>&quot;cellular_compo…</td><td>&quot;ENSG0000018815…</td><td>&quot;Os01g0100400&quot;</td></tr><tr><td>&quot;GO:0005886&quot;</td><td>&quot;plasma membran…</td><td>&quot;cellular_compo…</td><td>&quot;ENSG0000018689…</td><td>&quot;Os01g0100400&quot;</td></tr><tr><td>&quot;GO:0005886&quot;</td><td>&quot;plasma membran…</td><td>&quot;cellular_compo…</td><td>&quot;ENSG0000018682…</td><td>&quot;Os01g0100400&quot;</td></tr><tr><td>&quot;GO:0005886&quot;</td><td>&quot;plasma membran…</td><td>&quot;cellular_compo…</td><td>&quot;ENSG0000016257…</td><td>&quot;Os01g0100400&quot;</td></tr><tr><td>&quot;GO:0005886&quot;</td><td>&quot;plasma membran…</td><td>&quot;cellular_compo…</td><td>&quot;ENSG0000022405…</td><td>&quot;Os01g0100400&quot;</td></tr><tr><td>&quot;GO:0005886&quot;</td><td>&quot;plasma membran…</td><td>&quot;cellular_compo…</td><td>&quot;ENSG0000016996…</td><td>&quot;Os01g0100400&quot;</td></tr><tr><td>&quot;GO:0005886&quot;</td><td>&quot;plasma membran…</td><td>&quot;cellular_compo…</td><td>&quot;ENSG0000010740…</td><td>&quot;Os01g0100400&quot;</td></tr><tr><td>&quot;GO:0005886&quot;</td><td>&quot;plasma membran…</td><td>&quot;cellular_compo…</td><td>&quot;ENSG0000016257…</td><td>&quot;Os01g0100400&quot;</td></tr><tr><td>&hellip;</td><td>&hellip;</td><td>&hellip;</td><td>&hellip;</td><td>&hellip;</td></tr><tr><td>&quot;GO:0005840&quot;</td><td>&quot;ribosome&quot;</td><td>&quot;cellular_compo…</td><td>&quot;ENSG0000021259…</td><td>&quot;gene-rps19&quot;</td></tr><tr><td>&quot;GO:0005840&quot;</td><td>&quot;ribosome&quot;</td><td>&quot;cellular_compo…</td><td>&quot;ENSG0000014740…</td><td>&quot;gene-rps19&quot;</td></tr><tr><td>&quot;GO:0005840&quot;</td><td>&quot;ribosome&quot;</td><td>&quot;cellular_compo…</td><td>&quot;ENSG0000029235…</td><td>&quot;gene-rps19&quot;</td></tr><tr><td>&quot;GO:0005840&quot;</td><td>&quot;ribosome&quot;</td><td>&quot;cellular_compo…</td><td>&quot;ENSG0000012982…</td><td>&quot;gene-rps19&quot;</td></tr><tr><td>&quot;GO:0005840&quot;</td><td>&quot;ribosome&quot;</td><td>&quot;cellular_compo…</td><td>&quot;ENSG0000025176…</td><td>&quot;gene-rps19&quot;</td></tr><tr><td>&quot;GO:0005840&quot;</td><td>&quot;ribosome&quot;</td><td>&quot;cellular_compo…</td><td>&quot;ENSG0000025228…</td><td>&quot;gene-rps19&quot;</td></tr><tr><td>&quot;GO:0005840&quot;</td><td>&quot;ribosome&quot;</td><td>&quot;cellular_compo…</td><td>&quot;ENSG0000025170…</td><td>&quot;gene-rps19&quot;</td></tr><tr><td>&quot;GO:0005840&quot;</td><td>&quot;ribosome&quot;</td><td>&quot;cellular_compo…</td><td>&quot;ENSG0000025231…</td><td>&quot;gene-rps19&quot;</td></tr><tr><td>&quot;GO:0005840&quot;</td><td>&quot;ribosome&quot;</td><td>&quot;cellular_compo…</td><td>&quot;ENSG0000025201…</td><td>&quot;gene-rps19&quot;</td></tr><tr><td>&quot;GO:0005840&quot;</td><td>&quot;ribosome&quot;</td><td>&quot;cellular_compo…</td><td>&quot;ENSG0000025195…</td><td>&quot;gene-rps19&quot;</td></tr><tr><td>&quot;GO:0005840&quot;</td><td>&quot;ribosome&quot;</td><td>&quot;cellular_compo…</td><td>&quot;ENSG0000025266…</td><td>&quot;gene-rps19&quot;</td></tr><tr><td>&quot;GO:0005840&quot;</td><td>&quot;ribosome&quot;</td><td>&quot;cellular_compo…</td><td>&quot;ENSG0000028096…</td><td>&quot;gene-rps19&quot;</td></tr></tbody></table></div>"
      ],
      "text/plain": [
       "shape: (85_947_772, 5)\n",
       "┌──────────────┬─────────────────┬────────────────────┬─────────────────┬─────────────────────┐\n",
       "│ GOSlim GOA   ┆ GOSlim GOA      ┆ GOSlim_domain      ┆ Gene stable     ┆ Gene stable ID_rice │\n",
       "│ Accession(s) ┆ Description     ┆ ---                ┆ ID_human        ┆ ---                 │\n",
       "│ ---          ┆ ---             ┆ str                ┆ ---             ┆ str                 │\n",
       "│ str          ┆ str             ┆                    ┆ str             ┆                     │\n",
       "╞══════════════╪═════════════════╪════════════════════╪═════════════════╪═════════════════════╡\n",
       "│ GO:0005886   ┆ plasma membrane ┆ cellular_component ┆ ENSG00000186092 ┆ Os01g0100400        │\n",
       "│ GO:0005886   ┆ plasma membrane ┆ cellular_component ┆ ENSG00000284733 ┆ Os01g0100400        │\n",
       "│ GO:0005886   ┆ plasma membrane ┆ cellular_component ┆ ENSG00000284662 ┆ Os01g0100400        │\n",
       "│ GO:0005886   ┆ plasma membrane ┆ cellular_component ┆ ENSG00000187583 ┆ Os01g0100400        │\n",
       "│ …            ┆ …               ┆ …                  ┆ …               ┆ …                   │\n",
       "│ GO:0005840   ┆ ribosome        ┆ cellular_component ┆ ENSG00000252012 ┆ gene-rps19          │\n",
       "│ GO:0005840   ┆ ribosome        ┆ cellular_component ┆ ENSG00000251953 ┆ gene-rps19          │\n",
       "│ GO:0005840   ┆ ribosome        ┆ cellular_component ┆ ENSG00000252667 ┆ gene-rps19          │\n",
       "│ GO:0005840   ┆ ribosome        ┆ cellular_component ┆ ENSG00000280969 ┆ gene-rps19          │\n",
       "└──────────────┴─────────────────┴────────────────────┴─────────────────┴─────────────────────┘"
      ]
     },
     "metadata": {},
     "output_type": "display_data"
    },
    {
     "data": {
      "text/html": [
       "<div><style>\n",
       ".dataframe > thead > tr,\n",
       ".dataframe > tbody > tr {\n",
       "  text-align: right;\n",
       "  white-space: pre-wrap;\n",
       "}\n",
       "</style>\n",
       "<small>shape: (97_800_804, 5)</small><table border=\"1\" class=\"dataframe\"><thead><tr><th>GOSlim GOA Accession(s)</th><th>GOSlim GOA Description</th><th>GOSlim_domain</th><th>Gene stable ID_human</th><th>Gene stable ID_rice</th></tr><tr><td>str</td><td>str</td><td>str</td><td>str</td><td>str</td></tr></thead><tbody><tr><td>&quot;GO:0003824&quot;</td><td>&quot;catalytic acti…</td><td>&quot;molecular_func…</td><td>&quot;ENSG0000023733…</td><td>&quot;Os01g0100300&quot;</td></tr><tr><td>&quot;GO:0003824&quot;</td><td>&quot;catalytic acti…</td><td>&quot;molecular_func…</td><td>&quot;ENSG0000016257…</td><td>&quot;Os01g0100300&quot;</td></tr><tr><td>&quot;GO:0003824&quot;</td><td>&quot;catalytic acti…</td><td>&quot;molecular_func…</td><td>&quot;ENSG0000017602…</td><td>&quot;Os01g0100300&quot;</td></tr><tr><td>&quot;GO:0003824&quot;</td><td>&quot;catalytic acti…</td><td>&quot;molecular_func…</td><td>&quot;ENSG0000016008…</td><td>&quot;Os01g0100300&quot;</td></tr><tr><td>&quot;GO:0003824&quot;</td><td>&quot;catalytic acti…</td><td>&quot;molecular_func…</td><td>&quot;ENSG0000016997…</td><td>&quot;Os01g0100300&quot;</td></tr><tr><td>&quot;GO:0003824&quot;</td><td>&quot;catalytic acti…</td><td>&quot;molecular_func…</td><td>&quot;ENSG0000012705…</td><td>&quot;Os01g0100300&quot;</td></tr><tr><td>&quot;GO:0003824&quot;</td><td>&quot;catalytic acti…</td><td>&quot;molecular_func…</td><td>&quot;ENSG0000021591…</td><td>&quot;Os01g0100300&quot;</td></tr><tr><td>&quot;GO:0003824&quot;</td><td>&quot;catalytic acti…</td><td>&quot;molecular_func…</td><td>&quot;ENSG0000016007…</td><td>&quot;Os01g0100300&quot;</td></tr><tr><td>&quot;GO:0003824&quot;</td><td>&quot;catalytic acti…</td><td>&quot;molecular_func…</td><td>&quot;ENSG0000019778…</td><td>&quot;Os01g0100300&quot;</td></tr><tr><td>&quot;GO:0003824&quot;</td><td>&quot;catalytic acti…</td><td>&quot;molecular_func…</td><td>&quot;ENSG0000016007…</td><td>&quot;Os01g0100300&quot;</td></tr><tr><td>&quot;GO:0003824&quot;</td><td>&quot;catalytic acti…</td><td>&quot;molecular_func…</td><td>&quot;ENSG0000019753…</td><td>&quot;Os01g0100300&quot;</td></tr><tr><td>&quot;GO:0003824&quot;</td><td>&quot;catalytic acti…</td><td>&quot;molecular_func…</td><td>&quot;ENSG0000018940…</td><td>&quot;Os01g0100300&quot;</td></tr><tr><td>&hellip;</td><td>&hellip;</td><td>&hellip;</td><td>&hellip;</td><td>&hellip;</td></tr><tr><td>&quot;GO:0003723&quot;</td><td>&quot;RNA binding&quot;</td><td>&quot;molecular_func…</td><td>&quot;ENSG0000024238…</td><td>&quot;gene-rps19&quot;</td></tr><tr><td>&quot;GO:0003723&quot;</td><td>&quot;RNA binding&quot;</td><td>&quot;molecular_func…</td><td>&quot;ENSG0000016980…</td><td>&quot;gene-rps19&quot;</td></tr><tr><td>&quot;GO:0003723&quot;</td><td>&quot;RNA binding&quot;</td><td>&quot;molecular_func…</td><td>&quot;ENSG0000022694…</td><td>&quot;gene-rps19&quot;</td></tr><tr><td>&quot;GO:0003723&quot;</td><td>&quot;RNA binding&quot;</td><td>&quot;molecular_func…</td><td>&quot;ENSG0000018812…</td><td>&quot;gene-rps19&quot;</td></tr><tr><td>&quot;GO:0003723&quot;</td><td>&quot;RNA binding&quot;</td><td>&quot;molecular_func…</td><td>&quot;ENSG0000020594…</td><td>&quot;gene-rps19&quot;</td></tr><tr><td>&quot;GO:0003723&quot;</td><td>&quot;RNA binding&quot;</td><td>&quot;molecular_func…</td><td>&quot;ENSG0000025268…</td><td>&quot;gene-rps19&quot;</td></tr><tr><td>&quot;GO:0003723&quot;</td><td>&quot;RNA binding&quot;</td><td>&quot;molecular_func…</td><td>&quot;ENSG0000025191…</td><td>&quot;gene-rps19&quot;</td></tr><tr><td>&quot;GO:0003723&quot;</td><td>&quot;RNA binding&quot;</td><td>&quot;molecular_func…</td><td>&quot;ENSG0000018719…</td><td>&quot;gene-rps19&quot;</td></tr><tr><td>&quot;GO:0003723&quot;</td><td>&quot;RNA binding&quot;</td><td>&quot;molecular_func…</td><td>&quot;ENSG0000020591…</td><td>&quot;gene-rps19&quot;</td></tr><tr><td>&quot;GO:0003723&quot;</td><td>&quot;RNA binding&quot;</td><td>&quot;molecular_func…</td><td>&quot;ENSG0000025242…</td><td>&quot;gene-rps19&quot;</td></tr><tr><td>&quot;GO:0003723&quot;</td><td>&quot;RNA binding&quot;</td><td>&quot;molecular_func…</td><td>&quot;ENSG0000025262…</td><td>&quot;gene-rps19&quot;</td></tr><tr><td>&quot;GO:0003723&quot;</td><td>&quot;RNA binding&quot;</td><td>&quot;molecular_func…</td><td>&quot;ENSG0000025294…</td><td>&quot;gene-rps19&quot;</td></tr></tbody></table></div>"
      ],
      "text/plain": [
       "shape: (97_800_804, 5)\n",
       "┌──────────────┬─────────────────────┬─────────────────────┬─────────────────┬─────────────────────┐\n",
       "│ GOSlim GOA   ┆ GOSlim GOA          ┆ GOSlim_domain       ┆ Gene stable     ┆ Gene stable ID_rice │\n",
       "│ Accession(s) ┆ Description         ┆ ---                 ┆ ID_human        ┆ ---                 │\n",
       "│ ---          ┆ ---                 ┆ str                 ┆ ---             ┆ str                 │\n",
       "│ str          ┆ str                 ┆                     ┆ str             ┆                     │\n",
       "╞══════════════╪═════════════════════╪═════════════════════╪═════════════════╪═════════════════════╡\n",
       "│ GO:0003824   ┆ catalytic activity  ┆ molecular_function  ┆ ENSG00000237330 ┆ Os01g0100300        │\n",
       "│ GO:0003824   ┆ catalytic activity  ┆ molecular_function  ┆ ENSG00000162571 ┆ Os01g0100300        │\n",
       "│ GO:0003824   ┆ catalytic activity  ┆ molecular_function  ┆ ENSG00000176022 ┆ Os01g0100300        │\n",
       "│ GO:0003824   ┆ catalytic activity  ┆ molecular_function  ┆ ENSG00000160087 ┆ Os01g0100300        │\n",
       "│ …            ┆ …                   ┆ …                   ┆ …               ┆ …                   │\n",
       "│ GO:0003723   ┆ RNA binding         ┆ molecular_function  ┆ ENSG00000205916 ┆ gene-rps19          │\n",
       "│ GO:0003723   ┆ RNA binding         ┆ molecular_function  ┆ ENSG00000252426 ┆ gene-rps19          │\n",
       "│ GO:0003723   ┆ RNA binding         ┆ molecular_function  ┆ ENSG00000252625 ┆ gene-rps19          │\n",
       "│ GO:0003723   ┆ RNA binding         ┆ molecular_function  ┆ ENSG00000252948 ┆ gene-rps19          │\n",
       "└──────────────┴─────────────────────┴─────────────────────┴─────────────────┴─────────────────────┘"
      ]
     },
     "metadata": {},
     "output_type": "display_data"
    },
    {
     "data": {
      "text/html": [
       "<div><style>\n",
       ".dataframe > thead > tr,\n",
       ".dataframe > tbody > tr {\n",
       "  text-align: right;\n",
       "  white-space: pre-wrap;\n",
       "}\n",
       "</style>\n",
       "<small>shape: (22_214_315, 5)</small><table border=\"1\" class=\"dataframe\"><thead><tr><th>GOSlim GOA Accession(s)</th><th>GOSlim GOA Description</th><th>GOSlim_domain</th><th>Gene stable ID_human</th><th>Gene stable ID_rice</th></tr><tr><td>str</td><td>str</td><td>str</td><td>str</td><td>str</td></tr></thead><tbody><tr><td>&quot;GO:0006629&quot;</td><td>&quot;lipid metaboli…</td><td>&quot;biological_pro…</td><td>&quot;ENSG0000022405…</td><td>&quot;Os01g0100900&quot;</td></tr><tr><td>&quot;GO:0006629&quot;</td><td>&quot;lipid metaboli…</td><td>&quot;biological_pro…</td><td>&quot;ENSG0000014952…</td><td>&quot;Os01g0100900&quot;</td></tr><tr><td>&quot;GO:0006629&quot;</td><td>&quot;lipid metaboli…</td><td>&quot;biological_pro…</td><td>&quot;ENSG0000015787…</td><td>&quot;Os01g0100900&quot;</td></tr><tr><td>&quot;GO:0006629&quot;</td><td>&quot;lipid metaboli…</td><td>&quot;biological_pro…</td><td>&quot;ENSG0000009702…</td><td>&quot;Os01g0100900&quot;</td></tr><tr><td>&quot;GO:0006629&quot;</td><td>&quot;lipid metaboli…</td><td>&quot;biological_pro…</td><td>&quot;ENSG0000004923…</td><td>&quot;Os01g0100900&quot;</td></tr><tr><td>&quot;GO:0006629&quot;</td><td>&quot;lipid metaboli…</td><td>&quot;biological_pro…</td><td>&quot;ENSG0000017160…</td><td>&quot;Os01g0100900&quot;</td></tr><tr><td>&quot;GO:0006629&quot;</td><td>&quot;lipid metaboli…</td><td>&quot;biological_pro…</td><td>&quot;ENSG0000019879…</td><td>&quot;Os01g0100900&quot;</td></tr><tr><td>&quot;GO:0006629&quot;</td><td>&quot;lipid metaboli…</td><td>&quot;biological_pro…</td><td>&quot;ENSG0000020462…</td><td>&quot;Os01g0100900&quot;</td></tr><tr><td>&quot;GO:0006629&quot;</td><td>&quot;lipid metaboli…</td><td>&quot;biological_pro…</td><td>&quot;ENSG0000016249…</td><td>&quot;Os01g0100900&quot;</td></tr><tr><td>&quot;GO:0006629&quot;</td><td>&quot;lipid metaboli…</td><td>&quot;biological_pro…</td><td>&quot;ENSG0000012748…</td><td>&quot;Os01g0100900&quot;</td></tr><tr><td>&quot;GO:0006629&quot;</td><td>&quot;lipid metaboli…</td><td>&quot;biological_pro…</td><td>&quot;ENSG0000005337…</td><td>&quot;Os01g0100900&quot;</td></tr><tr><td>&quot;GO:0006629&quot;</td><td>&quot;lipid metaboli…</td><td>&quot;biological_pro…</td><td>&quot;ENSG0000018878…</td><td>&quot;Os01g0100900&quot;</td></tr><tr><td>&hellip;</td><td>&hellip;</td><td>&hellip;</td><td>&hellip;</td><td>&hellip;</td></tr><tr><td>&quot;GO:0006091&quot;</td><td>&quot;generation of …</td><td>&quot;biological_pro…</td><td>&quot;ENSG0000006717…</td><td>&quot;gene-ndhE&quot;</td></tr><tr><td>&quot;GO:0006091&quot;</td><td>&quot;generation of …</td><td>&quot;biological_pro…</td><td>&quot;ENSG0000013117…</td><td>&quot;gene-ndhE&quot;</td></tr><tr><td>&quot;GO:0006091&quot;</td><td>&quot;generation of …</td><td>&quot;biological_pro…</td><td>&quot;ENSG0000016524…</td><td>&quot;gene-ndhE&quot;</td></tr><tr><td>&quot;GO:0006091&quot;</td><td>&quot;generation of …</td><td>&quot;biological_pro…</td><td>&quot;ENSG0000010214…</td><td>&quot;gene-ndhE&quot;</td></tr><tr><td>&quot;GO:0006091&quot;</td><td>&quot;generation of …</td><td>&quot;biological_pro…</td><td>&quot;ENSG0000022678…</td><td>&quot;gene-ndhE&quot;</td></tr><tr><td>&quot;GO:0006091&quot;</td><td>&quot;generation of …</td><td>&quot;biological_pro…</td><td>&quot;ENSG0000012535…</td><td>&quot;gene-ndhE&quot;</td></tr><tr><td>&quot;GO:0006091&quot;</td><td>&quot;generation of …</td><td>&quot;biological_pro…</td><td>&quot;ENSG0000010207…</td><td>&quot;gene-ndhE&quot;</td></tr><tr><td>&quot;GO:0006091&quot;</td><td>&quot;generation of …</td><td>&quot;biological_pro…</td><td>&quot;ENSG0000016567…</td><td>&quot;gene-ndhE&quot;</td></tr><tr><td>&quot;GO:0006091&quot;</td><td>&quot;generation of …</td><td>&quot;biological_pro…</td><td>&quot;ENSG0000010198…</td><td>&quot;gene-ndhE&quot;</td></tr><tr><td>&quot;GO:0006091&quot;</td><td>&quot;generation of …</td><td>&quot;biological_pro…</td><td>&quot;ENSG0000006782…</td><td>&quot;gene-ndhE&quot;</td></tr><tr><td>&quot;GO:0006091&quot;</td><td>&quot;generation of …</td><td>&quot;biological_pro…</td><td>&quot;ENSG0000010212…</td><td>&quot;gene-ndhE&quot;</td></tr><tr><td>&quot;GO:0006091&quot;</td><td>&quot;generation of …</td><td>&quot;biological_pro…</td><td>&quot;ENSG0000016021…</td><td>&quot;gene-ndhE&quot;</td></tr></tbody></table></div>"
      ],
      "text/plain": [
       "shape: (22_214_315, 5)\n",
       "┌──────────────┬─────────────────┬────────────────────┬─────────────────┬─────────────────────┐\n",
       "│ GOSlim GOA   ┆ GOSlim GOA      ┆ GOSlim_domain      ┆ Gene stable     ┆ Gene stable ID_rice │\n",
       "│ Accession(s) ┆ Description     ┆ ---                ┆ ID_human        ┆ ---                 │\n",
       "│ ---          ┆ ---             ┆ str                ┆ ---             ┆ str                 │\n",
       "│ str          ┆ str             ┆                    ┆ str             ┆                     │\n",
       "╞══════════════╪═════════════════╪════════════════════╪═════════════════╪═════════════════════╡\n",
       "│ GO:0006629   ┆ lipid metabolic ┆ biological_process ┆ ENSG00000224051 ┆ Os01g0100900        │\n",
       "│              ┆ process         ┆                    ┆                 ┆                     │\n",
       "│ GO:0006629   ┆ lipid metabolic ┆ biological_process ┆ ENSG00000149527 ┆ Os01g0100900        │\n",
       "│              ┆ process         ┆                    ┆                 ┆                     │\n",
       "│ GO:0006629   ┆ lipid metabolic ┆ biological_process ┆ ENSG00000157870 ┆ Os01g0100900        │\n",
       "│              ┆ process         ┆                    ┆                 ┆                     │\n",
       "│ GO:0006629   ┆ lipid metabolic ┆ biological_process ┆ ENSG00000097021 ┆ Os01g0100900        │\n",
       "│              ┆ process         ┆                    ┆                 ┆                     │\n",
       "│ …            ┆ …               ┆ …                  ┆ …               ┆ …                   │\n",
       "│ GO:0006091   ┆ generation of   ┆ biological_process ┆ ENSG00000101986 ┆ gene-ndhE           │\n",
       "│              ┆ precursor       ┆                    ┆                 ┆                     │\n",
       "│              ┆ metaboli…       ┆                    ┆                 ┆                     │\n",
       "│ GO:0006091   ┆ generation of   ┆ biological_process ┆ ENSG00000067829 ┆ gene-ndhE           │\n",
       "│              ┆ precursor       ┆                    ┆                 ┆                     │\n",
       "│              ┆ metaboli…       ┆                    ┆                 ┆                     │\n",
       "│ GO:0006091   ┆ generation of   ┆ biological_process ┆ ENSG00000102125 ┆ gene-ndhE           │\n",
       "│              ┆ precursor       ┆                    ┆                 ┆                     │\n",
       "│              ┆ metaboli…       ┆                    ┆                 ┆                     │\n",
       "│ GO:0006091   ┆ generation of   ┆ biological_process ┆ ENSG00000160211 ┆ gene-ndhE           │\n",
       "│              ┆ precursor       ┆                    ┆                 ┆                     │\n",
       "│              ┆ metaboli…       ┆                    ┆                 ┆                     │\n",
       "└──────────────┴─────────────────┴────────────────────┴─────────────────┴─────────────────────┘"
      ]
     },
     "metadata": {},
     "output_type": "display_data"
    }
   ],
   "source": [
    "# if you search specific string in column, use 'filter' function and 'str.contains' method\n",
    "cellular_component = merged_df_goslim.filter(pl.col(\"GOSlim_domain\").str.contains(\"cellular_component\"))\n",
    "molecular_function = merged_df_goslim.filter(pl.col(\"GOSlim_domain\").str.contains(\"molecular_function\"))\n",
    "biological_process = merged_df_goslim.filter(pl.col(\"GOSlim_domain\").str.contains(\"biological_process\"))\n",
    "\n",
    "\n",
    "#write output\n",
    "cellular_component.write_csv(f\"../data/GOSlim_merge_{organism1_vs_organism2}/GOslim_merge_common_goslim_correspondence_cc.tsv\",\n",
    "                            separator=\"\\t\")\n",
    "molecular_function.write_csv(f\"../data/GOSlim_merge_{organism1_vs_organism2}/GOslim_merge_common_goslim_correspondence_mf.tsv\",\n",
    "                            separator=\"\\t\")\n",
    "biological_process.write_csv(f\"../data/GOSlim_merge_{organism1_vs_organism2}/GOslim_merge_common_goslim_correspondence_bp.tsv\",\n",
    "                            separator=\"\\t\")\n",
    "\n",
    "\n",
    "display(cellular_component, molecular_function, biological_process)"
   ]
  }
 ],
 "metadata": {
  "kernelspec": {
   "display_name": "Python 3",
   "language": "python",
   "name": "python3"
  },
  "language_info": {
   "codemirror_mode": {
    "name": "ipython",
    "version": 3
   },
   "file_extension": ".py",
   "mimetype": "text/x-python",
   "name": "python",
   "nbconvert_exporter": "python",
   "pygments_lexer": "ipython3",
   "version": "3.9.17"
  }
 },
 "nbformat": 4,
 "nbformat_minor": 2
}
