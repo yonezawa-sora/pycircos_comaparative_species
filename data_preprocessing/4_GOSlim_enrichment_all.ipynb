{
 "cells": [
  {
   "cell_type": "code",
   "execution_count": 1,
   "metadata": {},
   "outputs": [
    {
     "ename": "ModuleNotFoundError",
     "evalue": "No module named 'dask'",
     "output_type": "error",
     "traceback": [
      "\u001b[0;31m---------------------------------------------------------------------------\u001b[0m",
      "\u001b[0;31mModuleNotFoundError\u001b[0m                       Traceback (most recent call last)",
      "\u001b[1;32m/workspaces/pycircos_comaparative_species/data_preprocessing/4_GOSlim_enrichment_all.ipynb セル 1\u001b[0m line \u001b[0;36m1\n\u001b[0;32m----> <a href='vscode-notebook-cell://dev-container%2B7b22686f737450617468223a222f55736572732f796f6e657a6177612f4465736b746f702f48535f726963652f30385f416e6e6f746174696f6e2f3030375f636972636f735f706c6f742f7079636972636f735f636f6d6170617261746976655f73706563696573222c226c6f63616c446f636b6572223a66616c73652c2273657474696e6773223a7b22636f6e74657874223a226465736b746f702d6c696e7578227d2c22636f6e66696746696c65223a7b22246d6964223a312c22667350617468223a222f55736572732f796f6e657a6177612f4465736b746f702f48535f726963652f30385f416e6e6f746174696f6e2f3030375f636972636f735f706c6f742f7079636972636f735f636f6d6170617261746976655f737065636965732f2e646576636f6e7461696e65722f646576636f6e7461696e65722e6a736f6e222c2265787465726e616c223a2266696c653a2f2f2f55736572732f796f6e657a6177612f4465736b746f702f48535f726963652f30385f416e6e6f746174696f6e2f3030375f636972636f735f706c6f742f7079636972636f735f636f6d6170617261746976655f737065636965732f2e646576636f6e7461696e65722f646576636f6e7461696e65722e6a736f6e222c2270617468223a222f55736572732f796f6e657a6177612f4465736b746f702f48535f726963652f30385f416e6e6f746174696f6e2f3030375f636972636f735f706c6f742f7079636972636f735f636f6d6170617261746976655f737065636965732f2e646576636f6e7461696e65722f646576636f6e7461696e65722e6a736f6e222c22736368656d65223a2266696c65227d7d/workspaces/pycircos_comaparative_species/data_preprocessing/4_GOSlim_enrichment_all.ipynb#W0sdnNjb2RlLXJlbW90ZQ%3D%3D?line=0'>1</a>\u001b[0m \u001b[39mimport\u001b[39;00m \u001b[39mdask\u001b[39;00m\u001b[39m.\u001b[39;00m\u001b[39mdataframe\u001b[39;00m \u001b[39mas\u001b[39;00m \u001b[39mdd\u001b[39;00m\n\u001b[1;32m      <a href='vscode-notebook-cell://dev-container%2B7b22686f737450617468223a222f55736572732f796f6e657a6177612f4465736b746f702f48535f726963652f30385f416e6e6f746174696f6e2f3030375f636972636f735f706c6f742f7079636972636f735f636f6d6170617261746976655f73706563696573222c226c6f63616c446f636b6572223a66616c73652c2273657474696e6773223a7b22636f6e74657874223a226465736b746f702d6c696e7578227d2c22636f6e66696746696c65223a7b22246d6964223a312c22667350617468223a222f55736572732f796f6e657a6177612f4465736b746f702f48535f726963652f30385f416e6e6f746174696f6e2f3030375f636972636f735f706c6f742f7079636972636f735f636f6d6170617261746976655f737065636965732f2e646576636f6e7461696e65722f646576636f6e7461696e65722e6a736f6e222c2265787465726e616c223a2266696c653a2f2f2f55736572732f796f6e657a6177612f4465736b746f702f48535f726963652f30385f416e6e6f746174696f6e2f3030375f636972636f735f706c6f742f7079636972636f735f636f6d6170617261746976655f737065636965732f2e646576636f6e7461696e65722f646576636f6e7461696e65722e6a736f6e222c2270617468223a222f55736572732f796f6e657a6177612f4465736b746f702f48535f726963652f30385f416e6e6f746174696f6e2f3030375f636972636f735f706c6f742f7079636972636f735f636f6d6170617261746976655f737065636965732f2e646576636f6e7461696e65722f646576636f6e7461696e65722e6a736f6e222c22736368656d65223a2266696c65227d7d/workspaces/pycircos_comaparative_species/data_preprocessing/4_GOSlim_enrichment_all.ipynb#W0sdnNjb2RlLXJlbW90ZQ%3D%3D?line=1'>2</a>\u001b[0m \u001b[39mimport\u001b[39;00m \u001b[39mpandas\u001b[39;00m \u001b[39mas\u001b[39;00m \u001b[39mpd\u001b[39;00m\n\u001b[1;32m      <a href='vscode-notebook-cell://dev-container%2B7b22686f737450617468223a222f55736572732f796f6e657a6177612f4465736b746f702f48535f726963652f30385f416e6e6f746174696f6e2f3030375f636972636f735f706c6f742f7079636972636f735f636f6d6170617261746976655f73706563696573222c226c6f63616c446f636b6572223a66616c73652c2273657474696e6773223a7b22636f6e74657874223a226465736b746f702d6c696e7578227d2c22636f6e66696746696c65223a7b22246d6964223a312c22667350617468223a222f55736572732f796f6e657a6177612f4465736b746f702f48535f726963652f30385f416e6e6f746174696f6e2f3030375f636972636f735f706c6f742f7079636972636f735f636f6d6170617261746976655f737065636965732f2e646576636f6e7461696e65722f646576636f6e7461696e65722e6a736f6e222c2265787465726e616c223a2266696c653a2f2f2f55736572732f796f6e657a6177612f4465736b746f702f48535f726963652f30385f416e6e6f746174696f6e2f3030375f636972636f735f706c6f742f7079636972636f735f636f6d6170617261746976655f737065636965732f2e646576636f6e7461696e65722f646576636f6e7461696e65722e6a736f6e222c2270617468223a222f55736572732f796f6e657a6177612f4465736b746f702f48535f726963652f30385f416e6e6f746174696f6e2f3030375f636972636f735f706c6f742f7079636972636f735f636f6d6170617261746976655f737065636965732f2e646576636f6e7461696e65722f646576636f6e7461696e65722e6a736f6e222c22736368656d65223a2266696c65227d7d/workspaces/pycircos_comaparative_species/data_preprocessing/4_GOSlim_enrichment_all.ipynb#W0sdnNjb2RlLXJlbW90ZQ%3D%3D?line=2'>3</a>\u001b[0m \u001b[39mimport\u001b[39;00m \u001b[39mnumpy\u001b[39;00m \u001b[39mas\u001b[39;00m \u001b[39mnp\u001b[39;00m\n",
      "\u001b[0;31mModuleNotFoundError\u001b[0m: No module named 'dask'"
     ]
    }
   ],
   "source": [
    "import dask.dataframe as dd\n",
    "import pandas as pd\n",
    "import numpy as np\n",
    "import os\n",
    "from scipy.stats import fisher_exact\n",
    "from statsmodels.stats.multitest import multipletests\n",
    "import seaborn as sns\n",
    "import matplotlib.pyplot as plt\n",
    "import matplotlib.colors as mcolors"
   ]
  },
  {
   "cell_type": "code",
   "execution_count": null,
   "metadata": {},
   "outputs": [],
   "source": [
    "def count_goslim(df, file_name: str):\n",
    "    unique_gene_pairs = df.drop_duplicates(subset=['GOSlim GOA Accession(s)', 'Gene stable ID_human', 'Gene stable ID_rice'])\n",
    "    goslim_counts = unique_gene_pairs.groupby(['GOSlim GOA Accession(s)', 'GOSlim GOA Description']).size().reset_index(name='counts')\n",
    "    goslim_counts = goslim_counts.sort_values(by='counts', ascending=False).copy()\n",
    "    results_directory = '../data/goslim_correspondence_counts'\n",
    "    os.makedirs(results_directory, exist_ok=True)\n",
    "    goslim_counts.to_csv(f'{results_directory}/{file_name}', sep='\\t', index=False)\n",
    "    return goslim_counts"
   ]
  },
  {
   "cell_type": "code",
   "execution_count": null,
   "metadata": {},
   "outputs": [],
   "source": [
    "merged_df_goslim_pd = pd.read_csv('../data/GOslim_merge/GOslim_merge_common_goslim_correspondence_all_up.tsv', \n",
    "                                  sep='\\t',\n",
    "                                  low_memory=False)\n",
    "merged_df_up = pd.read_csv('../data/circos_result_UP_2311/merged_goslim_sorted_UP.tsv', sep='\\t')\n",
    "\n",
    "display(merged_df_goslim_pd)\n",
    "display(merged_df_up)"
   ]
  },
  {
   "cell_type": "code",
   "execution_count": null,
   "metadata": {},
   "outputs": [],
   "source": [
    "gosilm_correspondence_up_counts = count_goslim(merged_df_up, 'goslim_correspondence_counts_UP.tsv')\n",
    "goslim_correspondence_all_counts = count_goslim(merged_df_goslim_pd, 'goslim_correspondence_counts_all.tsv')\n",
    "\n",
    "display(gosilm_correspondence_up_counts)\n",
    "display(goslim_correspondence_all_counts)"
   ]
  },
  {
   "cell_type": "code",
   "execution_count": null,
   "metadata": {},
   "outputs": [],
   "source": [
    "# for debugging purpose\n",
    "total_counts_up = gosilm_correspondence_up_counts['counts'].sum()\n",
    "total_counts_all = goslim_correspondence_all_counts['counts'].sum()\n",
    "\n",
    "\n",
    "unique_rows_up = merged_df_up.drop_duplicates(subset=['GOSlim GOA Accession(s)', 'Gene stable ID_human', 'Gene stable ID_rice']).shape[0]\n",
    "unique_rows_all = merged_df_goslim_pd.drop_duplicates(subset=['GOSlim GOA Accession(s)', 'Gene stable ID_human', 'Gene stable ID_rice']).shape[0]\n",
    "\n",
    "print(f\"Total counts: {unique_rows_all}\")\n",
    "print(f\"up counts: {unique_rows_up}\")\n",
    "print(f\"Counts match rows: {unique_rows_up == total_counts_up}\")\n"
   ]
  },
  {
   "cell_type": "code",
   "execution_count": null,
   "metadata": {},
   "outputs": [],
   "source": [
    "\n",
    "def fold_enrichment(df_goslim_up_counts, df_goslim_all_counts, unique_genes_up, unique_genes_all, file_name: str):\n",
    "    \"\"\"_summary_\n",
    "    Args:\n",
    "        df_goslim_up_counts (dataframe): _description_\n",
    "        df_goslim_all_counts (dataframe): _description_\n",
    "        unique_genes_up (): _description_\n",
    "        unique_genes_all (dataframe): _description_\n",
    "        file_name (str): _description_\n",
    "\n",
    "    Returns:\n",
    "        dataframe : _description_\n",
    "    \"\"\"\n",
    "    merged_df = pd.merge(df_goslim_up_counts, \n",
    "                         df_goslim_all_counts,\n",
    "                         on=['GOSlim GOA Accession(s)', 'GOSlim GOA Description'], \n",
    "                         how='right', # if there is no match, fill with NaN or 0\n",
    "                         suffixes=('_up', '_all'))\n",
    "    \n",
    "    merged_df['counts_up'] = merged_df['counts_up'].fillna(0)\n",
    "    merged_df['counts_all'] = merged_df['counts_all'].fillna(0)\n",
    "    merged_df['up_ratio'] = merged_df['counts_up'] / unique_genes_up\n",
    "    merged_df['all_ratio'] = merged_df['counts_all'] / unique_genes_all\n",
    "    merged_df['fold_enrichment'] = merged_df['up_ratio'] / merged_df['all_ratio']\n",
    "    merged_df.replace([np.inf, -np.inf], np.nan, inplace=True) # inf -> nan\n",
    "    results_directory = '../data/goslim_fold_enrichment_correspondence'\n",
    "    os.makedirs(results_directory, exist_ok=True)\n",
    "    merged_df.to_csv(f'{results_directory}/{file_name}', sep='\\t', index=False)\n",
    "    \n",
    "    return merged_df\n",
    "\n",
    "\n",
    "goslim_correspondence_enrichment = fold_enrichment(gosilm_correspondence_up_counts, goslim_correspondence_all_counts, unique_rows_up, unique_rows_all, 'goslim_correspondence_fold_enrichment.tsv')\n",
    "display(goslim_correspondence_enrichment)"
   ]
  },
  {
   "cell_type": "markdown",
   "metadata": {},
   "source": [
    "## Q-value"
   ]
  },
  {
   "cell_type": "code",
   "execution_count": null,
   "metadata": {},
   "outputs": [],
   "source": [
    "\n",
    "def calculate_p_q_values(df_enrichment, unique_correspondence_up, unique_correspondence_all, file_name: str):\n",
    "    p_values = []\n",
    "    df_enrichment['counts_up'] = df_enrichment['counts_up'].astype(int) # float(0.0) to int(0)\n",
    "    for index, row in df_enrichment.iterrows():\n",
    "        if row['counts_up'] == 0:\n",
    "            p_values.append(1.0)\n",
    "        else:\n",
    "            observed_up_correspondence = row['counts_up'] # create contingency table\n",
    "            observed_all_correspondence = row['counts_all']\n",
    "            observed_not_up_correspondence = observed_all_correspondence - observed_up_correspondence\n",
    "            total_not_up_correspondence = unique_correspondence_all - unique_correspondence_up\n",
    "            table = [\n",
    "            [observed_up_correspondence, unique_correspondence_up - observed_up_correspondence],\n",
    "            [observed_not_up_correspondence, total_not_up_correspondence - observed_not_up_correspondence]\n",
    "            ]\n",
    "            _, p_value = fisher_exact(table, alternative='greater') # Fisher's exact test\n",
    "            p_values.append(p_value)\n",
    "    \n",
    "    _, q_values, _, _ = multipletests(p_values, \n",
    "                                      alpha=0.05, \n",
    "                                      method='fdr_bh') # Benjamini/Hochberg method\n",
    "    \n",
    "    df_enrichment['p_value'] = p_values\n",
    "    df_enrichment['q_value'] = q_values\n",
    "\n",
    "    results_directory = '../data/goslim_correspondence_q_values'\n",
    "    os.makedirs(results_directory, exist_ok=True)\n",
    "    df_enrichment['GOSlim'] = df_enrichment['GOSlim GOA Accession(s)'] + \": \" + df_enrichment['GOSlim GOA Description']\n",
    "    cols = df_enrichment.columns.tolist()\n",
    "    cols = [cols[-1]] + cols[:-1]\n",
    "    df_enrichment = df_enrichment[cols]\n",
    "    df_enrichment.drop(['GOSlim GOA Accession(s)', 'GOSlim GOA Description'], axis=1, inplace=True)\n",
    "    df_enrichment = df_enrichment[df_enrichment['counts_up'] != 0]\n",
    "    df_enrichment = df_enrichment.sort_values(by='fold_enrichment', ascending=False)\n",
    "    df_enrichment.to_csv(f'{results_directory}/{file_name}', sep='\\t', index=False)\n",
    "\n",
    "    return df_enrichment\n",
    "\n",
    "goslim_correspondence_with_p_q = calculate_p_q_values(goslim_correspondence_enrichment,\n",
    "                                                      unique_rows_up,\n",
    "                                                      unique_rows_all, \n",
    "                                                      'goslim_correspondence_fold_enrichment_p_q.tsv')\n",
    "\n",
    "display(goslim_correspondence_with_p_q)"
   ]
  },
  {
   "cell_type": "code",
   "execution_count": null,
   "metadata": {},
   "outputs": [],
   "source": [
    "color = sns.color_palette(\"flare\", as_cmap=True)\n",
    "\n",
    "goslim_correspondence_with_p_q['-log10(q-value)'] = -np.log10(goslim_correspondence_with_p_q['q_value'])\n",
    "\n",
    "plt.figure(figsize=(6, 9))\n",
    "\n",
    "dotplot = sns.scatterplot(\n",
    "    data=goslim_correspondence_with_p_q,\n",
    "    x='fold_enrichment',\n",
    "    y='GOSlim',\n",
    "    size='counts_up', \n",
    "    hue='-log10(q-value)' ,     \n",
    "    palette=color, \n",
    "    legend='brief'\n",
    ")\n",
    "\n",
    "plt.grid(color='b', linestyle=':', linewidth=0.1)\n",
    "\n",
    "plt.xlabel('Fold Enrichment')\n",
    "plt.ylabel('Common GOSlim Terms')\n",
    "\n",
    "\n",
    "\n",
    "plt.show()"
   ]
  }
 ],
 "metadata": {
  "kernelspec": {
   "display_name": "Python 3",
   "language": "python",
   "name": "python3"
  },
  "language_info": {
   "codemirror_mode": {
    "name": "ipython",
    "version": 3
   },
   "file_extension": ".py",
   "mimetype": "text/x-python",
   "name": "python",
   "nbconvert_exporter": "python",
   "pygments_lexer": "ipython3",
   "version": "3.9.17"
  }
 },
 "nbformat": 4,
 "nbformat_minor": 2
}
