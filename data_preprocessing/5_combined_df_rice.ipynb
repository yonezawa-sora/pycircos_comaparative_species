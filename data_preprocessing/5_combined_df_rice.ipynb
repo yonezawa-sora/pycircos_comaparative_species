{
 "cells": [
  {
   "cell_type": "code",
   "execution_count": null,
   "metadata": {},
   "outputs": [],
   "source": [
    "import pandas as pd\n",
    "import os"
   ]
  },
  {
   "cell_type": "code",
   "execution_count": null,
   "metadata": {},
   "outputs": [],
   "source": [
    "# output directory and settings\n",
    "organism = 'rice'\n",
    "annotation_dir = f'../data/{organism}_annotation'\n",
    "os.makedirs(annotation_dir, exist_ok=True)"
   ]
  },
  {
   "cell_type": "code",
   "execution_count": null,
   "metadata": {},
   "outputs": [],
   "source": [
    "# Upregulated genes\n",
    "df_up = pd.read_csv(f\"../data/HN-score_{organism}/HN5_genes_up_{organism}.tsv\", sep=\"\\t\") #genes names in this file were manually corrected to the most recent version \n",
    "df_up.rename(columns={'HN5': 'HN-score(HN5)'}, inplace=True)\n",
    "# Downregulated genes\n",
    "df_down = pd.read_csv(f\"../data/HN-score_{organism}/HN5_genes_down_{organism}.tsv\", sep=\"\\t\")\n",
    "df_down.rename(columns={'HN5': 'HN-score(HN5)'}, inplace=True)\n",
    "\n",
    "COMBINED = pd.concat(\n",
    "    [df_up, df_down],\n",
    "    ignore_index=True\n",
    "    )\n",
    "\n",
    "display(df_up, df_down, COMBINED)"
   ]
  },
  {
   "cell_type": "markdown",
   "metadata": {},
   "source": [
    "## merge the Ensembl biomart data (Chromosome position)\n",
    "\n",
    "- For drawing Circos plot"
   ]
  },
  {
   "cell_type": "code",
   "execution_count": null,
   "metadata": {},
   "outputs": [],
   "source": [
    "df_ensembl_position = pd.read_csv(f\"../data/biomart_goslim/biomart_{organism}_position_R56.tsv\", sep=\"\\t\", low_memory=False)\n",
    "\n",
    "# 1. merged all data\n",
    "merged_df_position = pd.merge(\n",
    "    df_ensembl_position,\n",
    "    COMBINED,\n",
    "    left_on=\"Gene stable ID\",\n",
    "    right_on=\"GENEID\",\n",
    "    how=\"inner\"\n",
    ")\n",
    "merged_df_position = merged_df_position.drop(columns=['GENEID'])\n",
    "merged_df_position = merged_df_position.sort_values(by='HN-score(HN5)', ascending=False).copy()\n",
    "\n",
    "\n",
    "# 2. merged upregulated genes data\n",
    "merged_df_position_up = pd.merge(\n",
    "    df_ensembl_position,\n",
    "    df_up,\n",
    "    left_on=\"Gene stable ID\",\n",
    "    right_on=\"GENEID\",\n",
    "    how=\"inner\"\n",
    ")\n",
    "merged_df_position_up = merged_df_position_up.drop(columns=['GENEID'])\n",
    "merged_df_position_up = merged_df_position_up.sort_values(by='HN-score(HN5)', ascending=False).copy()\n",
    "\n",
    "\n",
    "# 3. merged downregulated genes data\n",
    "merged_df_position_down = pd.merge(\n",
    "    df_ensembl_position,\n",
    "    df_down,\n",
    "    left_on=\"Gene stable ID\",\n",
    "    right_on=\"GENEID\",\n",
    "    how=\"inner\"\n",
    ")\n",
    "merged_df_position_down = merged_df_position_down.drop(columns=['GENEID'])\n",
    "merged_df_position_down = merged_df_position_down.sort_values(by='HN-score(HN5)', ascending=False).copy()\n",
    "\n",
    "# rename columns\n",
    "chromosome_position = [ merged_df_position, merged_df_position_up, merged_df_position_down ]\n",
    "\n",
    "for df in chromosome_position:\n",
    "    df.rename(columns={'Gene start (bp)': 'start1 (bp)'}, inplace=True) # start1 (bp) is the same as Gene start (bp)\n",
    "    df.rename(columns={'Gene end (bp)': 'end1 (bp)'}, inplace=True) # end1 (bp) is the same as Gene end (bp)\n",
    "\n",
    "\n",
    "# save data\n",
    "merged_df_position.to_csv(f\"../data/{annotation_dir}/{organism}_position_all.tsv\", sep=\"\\t\" , index=False)\n",
    "merged_df_position_up.to_csv(f\"../data/{annotation_dir}/{organism}_position_up.tsv\", sep=\"\\t\", index=False)\n",
    "merged_df_position_down.to_csv(f\"../data/{annotation_dir}/{organism}_position_down.tsv\", sep=\"\\t\", index=False)\n",
    "\n",
    "display(df_ensembl_position, merged_df_position, merged_df_position_up, merged_df_position_down)"
   ]
  },
  {
   "cell_type": "markdown",
   "metadata": {},
   "source": [
    "## merge the Ensembl biomart data (GOslim)\n",
    "\n",
    "- For exexution of GO enrichment analysis"
   ]
  },
  {
   "cell_type": "code",
   "execution_count": null,
   "metadata": {},
   "outputs": [],
   "source": [
    "df_ensembl = pd.read_csv(f\"../data/biomart_goslim/biomart_{organism}_goslim_R56_domain.tsv\", sep=\"\\t\", low_memory=False)\n",
    "df_ensembl_uniq = df_ensembl.drop_duplicates(subset=['Gene stable ID', \n",
    "                                                     'GOSlim GOA Accession(s)', \n",
    "                                                     'GOSlim GOA Description'], \n",
    "                                                     keep='first').copy()\n",
    "df_ensembl_uniq.rename(columns={'start2 (bp)': 'Gene start (bp)'}, inplace=True)\n",
    "df_ensembl_uniq.rename(columns={'end2 (bp)': 'Gene end (bp)'}, inplace=True)\n",
    "\n",
    "# 1. merge all data\n",
    "merged_df = pd.merge(df_ensembl_uniq,COMBINED,\n",
    "                        left_on=\"Gene stable ID\",\n",
    "                        right_on=\"GENEID\",\n",
    "                     how=\"inner\")\n",
    "\n",
    "merged_df = merged_df.drop(columns=['GENEID'])\n",
    "merged_df = merged_df.sort_values(by='HN-score(HN5)', ascending=False).copy()\n",
    "\n",
    "\n",
    "# 2. merge UP data\n",
    "merged_df_up = pd.merge(df_ensembl_uniq,df_up,\n",
    "                        left_on=\"Gene stable ID\",\n",
    "                        right_on=\"GENEID\",\n",
    "                     how=\"inner\")\n",
    "\n",
    "merged_df_up = merged_df_up.drop(columns=['GENEID'])\n",
    "merged_df_up = merged_df_up.sort_values(by='HN-score(HN5)', ascending=False).copy()\n",
    "\n",
    "\n",
    "# 3. merge DOWN data\n",
    "merged_df_down = pd.merge(df_ensembl_uniq,df_down,\n",
    "                        left_on=\"Gene stable ID\",\n",
    "                        right_on=\"GENEID\",\n",
    "                     how=\"inner\")\n",
    "\n",
    "merged_df_down = merged_df_down.drop(columns=['GENEID'])\n",
    "merged_df_down = merged_df_down.sort_values(by='HN-score(HN5)', ascending=False).copy()\n",
    "\n",
    "\n",
    "# save data\n",
    "merged_df.to_csv(f\"../data/{annotation_dir}/{organism}_annotation.tsv\", sep=\"\\t\" , index=False)\n",
    "merged_df_up.to_csv(f\"../data/{annotation_dir}/{organism}_annotation_up.tsv\", sep=\"\\t\" , index=False)\n",
    "merged_df_down.to_csv(f\"../data/{annotation_dir}/{organism}_annotation_down.tsv\", sep=\"\\t\", index=False)\n",
    "\n",
    "display(df_ensembl_uniq, merged_df, merged_df_up, merged_df_down)"
   ]
  }
 ],
 "metadata": {
  "kernelspec": {
   "display_name": "Python 3",
   "language": "python",
   "name": "python3"
  },
  "language_info": {
   "codemirror_mode": {
    "name": "ipython",
    "version": 3
   },
   "file_extension": ".py",
   "mimetype": "text/x-python",
   "name": "python",
   "nbconvert_exporter": "python",
   "pygments_lexer": "ipython3",
   "version": "3.9.17"
  }
 },
 "nbformat": 4,
 "nbformat_minor": 2
}
